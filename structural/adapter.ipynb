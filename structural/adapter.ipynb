{
 "cells": [
  {
   "attachments": {},
   "cell_type": "markdown",
   "metadata": {},
   "source": [
    "# Adapter Design Pattern\n",
    "\n",
    "####  Also Known As: *Wrapper*\n",
    "\n",
    "The **Adapter Design Pattern** is a structural design pattern that allows incompatible interfaces to work together. It acts as a bridge between two interfaces, converting the interface of one class into another interface that the client code expects. The Adapter pattern is useful when you have existing classes with different interfaces, and you want them to collaborate without modifying their source code.\n",
    "\n",
    "### Intent\n",
    "\n",
    "The intent of the Adapter Design Pattern is to enable classes with incompatible interfaces to work together. It allows you to reuse existing classes without changing their code, promoting flexibility and code reusability. The Adapter acts as an intermediary, providing a consistent interface that the client code can use to interact with different classes.\n",
    "\n",
    "### Structure\n",
    "\n",
    "The main components of the Adapter Design Pattern are:\n",
    "\n",
    "1. **Target**: This is the interface that the client code expects to interact with. It defines the methods the client code can use to interact with the Adaptee.\n",
    "2. **Client**: The client code that wants to interact with the Adaptee through the Target interface.\n",
    "3. **Adaptee**: The class that has an incompatible interface with the Target. The Adaptee's methods need to be adapted to match the Target interface.\n",
    "4. **Adapter**: The class that implements the Target interface and wraps around the Adaptee. It translates the calls from the Target interface into calls to the Adaptee's methods.\n",
    "\n",
    "### Example of Adapter in Python\n",
    "\n",
    "Let's consider an example where we have two classes representing different payment methods: `CreditCard` and `PayPal`. The existing payment processing system works with the `PaymentProcessor` interface, but the `CreditCard` and `PayPal` classes have different interfaces. We'll use the Adapter pattern to make these payment methods work with the existing system.\n",
    "\n",
    "First, we define the Target interface:"
   ]
  },
  {
   "cell_type": "code",
   "execution_count": 1,
   "metadata": {},
   "outputs": [],
   "source": [
    "# Target: PaymentProcessor\n",
    "class PaymentProcessor:\n",
    "    def pay(self, amount):\n",
    "        pass"
   ]
  },
  {
   "cell_type": "markdown",
   "metadata": {},
   "source": [
    "Next, we create the Adaptee classes:"
   ]
  },
  {
   "cell_type": "code",
   "execution_count": 2,
   "metadata": {},
   "outputs": [],
   "source": [
    "# Adaptee: CreditCard\n",
    "class CreditCard:\n",
    "    def make_payment(self, card_number, amount):\n",
    "        print(f\"Paid ${amount} with Credit Card {card_number}\")\n",
    "\n",
    "# Adaptee: PayPal\n",
    "class PayPal:\n",
    "    def send_money(self, email, amount):\n",
    "        print(f\"Sent ${amount} via PayPal to {email}\")"
   ]
  },
  {
   "cell_type": "markdown",
   "metadata": {},
   "source": [
    "Now, we create the Adapter classes that implement the Target interface:"
   ]
  },
  {
   "cell_type": "code",
   "execution_count": 3,
   "metadata": {},
   "outputs": [],
   "source": [
    "# Adapter: CreditCardAdapter\n",
    "class CreditCardAdapter(PaymentProcessor):\n",
    "    def __init__(self, credit_card):\n",
    "        self.credit_card = credit_card\n",
    "\n",
    "    def pay(self, amount):\n",
    "        self.credit_card.make_payment(\"1234-5678-9012-3456\", amount)\n",
    "\n",
    "# Adapter: PayPalAdapter\n",
    "class PayPalAdapter(PaymentProcessor):\n",
    "    def __init__(self, paypal):\n",
    "        self.paypal = paypal\n",
    "\n",
    "    def pay(self, amount):\n",
    "        self.paypal.send_money(\"user@example.com\", amount)"
   ]
  },
  {
   "cell_type": "markdown",
   "metadata": {},
   "source": [
    "Finally, the client code can use the Adapter to interact with the Adaptees:"
   ]
  },
  {
   "cell_type": "code",
   "execution_count": 4,
   "metadata": {},
   "outputs": [
    {
     "name": "stdout",
     "output_type": "stream",
     "text": [
      "Paid $50 with Credit Card 1234-5678-9012-3456\n",
      "Sent $30 via PayPal to user@example.com\n"
     ]
    }
   ],
   "source": [
    "# Client Code\n",
    "if __name__ == \"__main__\":\n",
    "    credit_card = CreditCard()\n",
    "    paypal = PayPal()\n",
    "\n",
    "    credit_card_adapter = CreditCardAdapter(credit_card)\n",
    "    paypal_adapter = PayPalAdapter(paypal)\n",
    "\n",
    "    # Client code interacts with the Adapters using the Target interface\n",
    "    credit_card_adapter.pay(50)\n",
    "    paypal_adapter.pay(30)\n"
   ]
  },
  {
   "cell_type": "markdown",
   "metadata": {},
   "source": [
    "In this example, we have used the Adapter Design Pattern to make the `CreditCard` and `PayPal` classes compatible with the `PaymentProcessor` interface through the `CreditCardAdapter` and `PayPalAdapter` classes. The client code interacts with the Adapters using the `PaymentProcessor` interface, and the Adapters translate the calls to the appropriate methods of the Adaptees, `CreditCard` and `PayPal`. This allows us to reuse the existing payment methods in the system without modifying their code. The Adapter pattern enables the collaboration of classes with incompatible interfaces, promoting flexibility and code reusability."
   ]
  }
 ],
 "metadata": {
  "kernelspec": {
   "display_name": "Python 3",
   "language": "python",
   "name": "python3"
  },
  "language_info": {
   "codemirror_mode": {
    "name": "ipython",
    "version": 3
   },
   "file_extension": ".py",
   "mimetype": "text/x-python",
   "name": "python",
   "nbconvert_exporter": "python",
   "pygments_lexer": "ipython3",
   "version": "3.9.14"
  },
  "orig_nbformat": 4
 },
 "nbformat": 4,
 "nbformat_minor": 2
}
