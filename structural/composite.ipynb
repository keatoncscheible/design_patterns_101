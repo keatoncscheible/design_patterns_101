{
 "cells": [
  {
   "attachments": {},
   "cell_type": "markdown",
   "metadata": {},
   "source": [
    "# Composite Design Pattern\n",
    "\n",
    "The **Composite Design Pattern** is a structural design pattern that allows you to compose objects into tree-like structures to represent part-whole hierarchies. It treats both individual objects and compositions of objects uniformly, enabling clients to interact with them uniformly. This pattern is useful when you have a hierarchical structure of objects and want to treat individual objects and groups of objects in a uniform way.\n",
    "\n",
    "### Intent\n",
    "\n",
    "The intent of the Composite Design Pattern is to compose objects into tree-like structures, allowing clients to treat individual objects and groups of objects uniformly. It simplifies the client code by eliminating the need to differentiate between individual objects and compositions of objects. The pattern also allows you to add or remove objects dynamically, enabling flexible and scalable structures.\n",
    "\n",
    "### Structure\n",
    "\n",
    "The main components of the Composite Design Pattern are:\n",
    "\n",
    "1. **Component**: This is the base interface or class representing both individual objects and compositions. It declares the common interface that the client code can use to interact with the objects.\n",
    "2. **Leaf**: The Leaf class represents individual objects that do not have any child objects.\n",
    "3. **Composite**: The Composite class represents compositions of objects. It contains a collection of Component objects and implements the common interface by delegating the requests to its children.\n",
    "\n",
    "### Example of Composite in Python\n",
    "\n",
    "Let's consider an example of a file system where we want to represent files and directories as a composite structure. Each file can be treated as a leaf node, and directories can be treated as composite nodes. We'll use the Composite pattern to interact with the file system uniformly, regardless of whether we are dealing with individual files or directories.\n",
    "\n",
    "First, we define the Component interface:"
   ]
  },
  {
   "cell_type": "code",
   "execution_count": 1,
   "metadata": {},
   "outputs": [],
   "source": [
    "# Component: FileSystemComponent\n",
    "from abc import ABC, abstractmethod\n",
    "\n",
    "class FileSystemComponent(ABC):\n",
    "    @abstractmethod\n",
    "    def display(self):\n",
    "        pass"
   ]
  },
  {
   "cell_type": "markdown",
   "metadata": {},
   "source": [
    "Next, we create the Leaf class representing individual files:"
   ]
  },
  {
   "cell_type": "code",
   "execution_count": 2,
   "metadata": {},
   "outputs": [],
   "source": [
    "# Leaf: File\n",
    "class File(FileSystemComponent):\n",
    "    def __init__(self, name):\n",
    "        self.name = name\n",
    "\n",
    "    def display(self):\n",
    "        print(f\"File: {self.name}\")"
   ]
  },
  {
   "cell_type": "markdown",
   "metadata": {},
   "source": [
    "Now, we create the Composite class representing directories:"
   ]
  },
  {
   "cell_type": "code",
   "execution_count": 3,
   "metadata": {},
   "outputs": [],
   "source": [
    "# Composite: Directory\n",
    "class Directory(FileSystemComponent):\n",
    "    def __init__(self, name):\n",
    "        self.name = name\n",
    "        self.children = []\n",
    "\n",
    "    def add(self, component):\n",
    "        self.children.append(component)\n",
    "\n",
    "    def remove(self, component):\n",
    "        self.children.remove(component)\n",
    "\n",
    "    def display(self):\n",
    "        print(f\"Directory: {self.name}\")\n",
    "        for child in self.children:\n",
    "            child.display()"
   ]
  },
  {
   "cell_type": "markdown",
   "metadata": {},
   "source": [
    "Finally, the client code can use the Composite to create and interact with the file system:"
   ]
  },
  {
   "cell_type": "code",
   "execution_count": 4,
   "metadata": {},
   "outputs": [
    {
     "name": "stdout",
     "output_type": "stream",
     "text": [
      "Directory: root\n",
      "Directory: directory1\n",
      "File: file1.txt\n",
      "File: file2.jpg\n",
      "Directory: directory2\n",
      "File: file3.py\n"
     ]
    }
   ],
   "source": [
    "# Client Code\n",
    "if __name__ == \"__main__\":\n",
    "    file1 = File(\"file1.txt\")\n",
    "    file2 = File(\"file2.jpg\")\n",
    "    file3 = File(\"file3.py\")\n",
    "\n",
    "    directory1 = Directory(\"directory1\")\n",
    "    directory1.add(file1)\n",
    "    directory1.add(file2)\n",
    "\n",
    "    directory2 = Directory(\"directory2\")\n",
    "    directory2.add(file3)\n",
    "\n",
    "    root_directory = Directory(\"root\")\n",
    "    root_directory.add(directory1)\n",
    "    root_directory.add(directory2)\n",
    "\n",
    "    # Display the entire file system\n",
    "    root_directory.display()\n"
   ]
  },
  {
   "cell_type": "markdown",
   "metadata": {},
   "source": [
    "In this example, the Composite Design Pattern allows us to create a file system with files and directories. The client code can interact with the file system uniformly using the `display()` method on both individual files and directories, treating them as FileSystemComponent objects. This promotes flexibility and simplicity in handling hierarchical structures, enabling easy addition or removal of files and directories at runtime. The Composite pattern allows us to treat individual objects and compositions of objects uniformly, simplifying the client code and enabling scalable and flexible structures."
   ]
  }
 ],
 "metadata": {
  "kernelspec": {
   "display_name": "Python 3",
   "language": "python",
   "name": "python3"
  },
  "language_info": {
   "codemirror_mode": {
    "name": "ipython",
    "version": 3
   },
   "file_extension": ".py",
   "mimetype": "text/x-python",
   "name": "python",
   "nbconvert_exporter": "python",
   "pygments_lexer": "ipython3",
   "version": "3.9.14"
  },
  "orig_nbformat": 4
 },
 "nbformat": 4,
 "nbformat_minor": 2
}
