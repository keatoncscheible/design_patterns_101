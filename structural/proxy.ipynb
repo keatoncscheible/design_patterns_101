{
 "cells": [
  {
   "attachments": {},
   "cell_type": "markdown",
   "metadata": {},
   "source": [
    "# Proxy Design Pattern\n",
    "\n",
    "#### Also Known As: Surrogate\n",
    "\n",
    "The **Proxy Design Pattern** is a structural design pattern that provides a surrogate or a placeholder for another object. It acts as an intermediary between the client and the real subject (the object being represented) to control access to the subject or add additional functionality. The Proxy pattern is useful when you want to add a level of indirection, improve performance, or add security to the object's access.\n",
    "\n",
    "### Intent\n",
    "\n",
    "The intent of the Proxy Design Pattern is to control access to the real subject and add extra behavior without modifying the subject itself. The Proxy acts as a representative or a stand-in for the real object, performing tasks such as lazy initialization, caching, or access control. It enables you to defer the creation of expensive objects until they are actually needed.\n",
    "\n",
    "### Structure\n",
    "\n",
    "The main components of the Proxy Design Pattern are:\n",
    "\n",
    "1. **Subject**: This is the interface or abstract class representing the real object and the Proxy. It defines the common interface that the Proxy and the RealSubject must implement.\n",
    "2. **RealSubject**: The RealSubject is the actual object being represented by the Proxy. It implements the operations defined in the Subject interface.\n",
    "3. **Proxy**: The Proxy class acts as a surrogate for the RealSubject. It holds a reference to the RealSubject and controls access to its methods. The Proxy can add additional functionality before or after invoking the RealSubject's methods.\n",
    "\n",
    "### Example of Proxy in Python\n",
    "\n",
    "Let's consider an example of a virtual image loader that loads and displays images from the disk. To improve performance, we'll use the Proxy pattern to implement a ProxyImage that defers the actual loading of the image until it is needed.\n",
    "\n",
    "First, we define the Subject interface:"
   ]
  },
  {
   "cell_type": "code",
   "execution_count": 1,
   "metadata": {},
   "outputs": [],
   "source": [
    "# Subject: Image\n",
    "from abc import ABC, abstractmethod\n",
    "\n",
    "class Image(ABC):\n",
    "    @abstractmethod\n",
    "    def display(self):\n",
    "        pass"
   ]
  },
  {
   "cell_type": "markdown",
   "metadata": {},
   "source": [
    "Next, we create the RealSubject representing the actual image:"
   ]
  },
  {
   "cell_type": "code",
   "execution_count": 2,
   "metadata": {},
   "outputs": [],
   "source": [
    "# RealSubject: RealImage\n",
    "class RealImage(Image):\n",
    "    def __init__(self, filename):\n",
    "        self._filename = filename\n",
    "        self._load_image_from_disk()\n",
    "\n",
    "    def _load_image_from_disk(self):\n",
    "        print(f\"Loading image from disk: {self._filename}\")\n",
    "\n",
    "    def display(self):\n",
    "        print(f\"Displaying image: {self._filename}\")"
   ]
  },
  {
   "cell_type": "markdown",
   "metadata": {},
   "source": [
    "Now, we define the Proxy class:"
   ]
  },
  {
   "cell_type": "code",
   "execution_count": 3,
   "metadata": {},
   "outputs": [],
   "source": [
    "# Proxy: ProxyImage\n",
    "class ProxyImage(Image):\n",
    "    def __init__(self, filename):\n",
    "        self._filename = filename\n",
    "        self._real_image = None\n",
    "\n",
    "    def display(self):\n",
    "        if self._real_image is None:\n",
    "            self._real_image = RealImage(self._filename)\n",
    "        self._real_image.display()"
   ]
  },
  {
   "cell_type": "markdown",
   "metadata": {},
   "source": [
    "Finally, the client code can use the ProxyImage to display images:"
   ]
  },
  {
   "cell_type": "code",
   "execution_count": 4,
   "metadata": {},
   "outputs": [
    {
     "name": "stdout",
     "output_type": "stream",
     "text": [
      "Loading image from disk: image1.jpg\n",
      "Displaying image: image1.jpg\n",
      "Loading image from disk: image2.jpg\n",
      "Displaying image: image2.jpg\n",
      "Displaying image: image2.jpg\n"
     ]
    }
   ],
   "source": [
    "# Client Code\n",
    "if __name__ == \"__main__\":\n",
    "    image1 = ProxyImage(\"image1.jpg\")\n",
    "    image2 = ProxyImage(\"image2.jpg\")\n",
    "\n",
    "    # Image 1 is not loaded until display() is called\n",
    "    image1.display()\n",
    "\n",
    "    # Image 2 is loaded only once when display() is called the first time\n",
    "    image2.display()\n",
    "\n",
    "    # Image 2 is not reloaded again when display() is called multiple times\n",
    "    image2.display()"
   ]
  },
  {
   "cell_type": "markdown",
   "metadata": {},
   "source": [
    "In this example, the Proxy Design Pattern allows us to control the loading of images using ProxyImage. The ProxyImage acts as a placeholder for the RealImage and defers the actual loading of the image until it is needed. The RealImage is created and loaded from the disk only when the `display()` method is called on the ProxyImage for the first time. Subsequent calls to `display()` on the same ProxyImage will reuse the already loaded RealImage, improving performance by avoiding unnecessary reloading. The Proxy pattern enables us to add a level of indirection and laziness in the loading of expensive resources like images."
   ]
  }
 ],
 "metadata": {
  "kernelspec": {
   "display_name": "Python 3",
   "language": "python",
   "name": "python3"
  },
  "language_info": {
   "codemirror_mode": {
    "name": "ipython",
    "version": 3
   },
   "file_extension": ".py",
   "mimetype": "text/x-python",
   "name": "python",
   "nbconvert_exporter": "python",
   "pygments_lexer": "ipython3",
   "version": "3.9.14"
  },
  "orig_nbformat": 4
 },
 "nbformat": 4,
 "nbformat_minor": 2
}
