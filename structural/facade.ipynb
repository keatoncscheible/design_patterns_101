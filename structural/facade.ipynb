{
 "cells": [
  {
   "attachments": {},
   "cell_type": "markdown",
   "metadata": {},
   "source": [
    "# Facade Design Pattern\n",
    "\n",
    "The **Facade Design Pattern** is a structural design pattern that provides a simplified interface to a complex subsystem of classes, making it easier to use for clients. It acts as a \"facade\" or a single entry point to the underlying complexity, hiding the details and interactions of the subsystem from the client code. This pattern is useful when you want to provide a simple and unified interface to a set of complex classes.\n",
    "\n",
    "### Intent\n",
    "\n",
    "The intent of the Facade Design Pattern is to provide a high-level, easy-to-use interface that hides the complexities of a subsystem from clients. It simplifies the interaction with the subsystem, reducing the knowledge required by the client and making the subsystem more maintainable by decoupling it from the client code. The pattern promotes a more structured and organized way of accessing a complex set of classes.\n",
    "\n",
    "### Structure\n",
    "\n",
    "The main components of the Facade Design Pattern are:\n",
    "\n",
    "1. **Facade**: This is the main class that acts as the entry point to the subsystem. It provides a simple interface that encapsulates the complexities of the underlying classes.\n",
    "2. **Subsystem Classes**: These are the complex classes that constitute the subsystem. The Facade delegates the client requests to the appropriate methods of these classes.\n",
    "\n",
    "### Example of Facade in Python\n",
    "\n",
    "Let's consider an example of a home theater system with multiple components like a DVD player, projector, and sound system. We'll use the Facade pattern to provide a simplified interface for turning on and off the entire home theater system.\n",
    "\n",
    "First, we define the Facade class:"
   ]
  },
  {
   "cell_type": "code",
   "execution_count": 1,
   "metadata": {},
   "outputs": [],
   "source": [
    "# Facade: HomeTheaterFacade\n",
    "class HomeTheaterFacade:\n",
    "    def __init__(self, dvd_player, projector, sound_system):\n",
    "        self.dvd_player = dvd_player\n",
    "        self.projector = projector\n",
    "        self.sound_system = sound_system\n",
    "\n",
    "    def turn_on(self):\n",
    "        self.dvd_player.turn_on()\n",
    "        self.projector.turn_on()\n",
    "        self.sound_system.turn_on()\n",
    "        print(\"Home theater system is turned on.\")\n",
    "\n",
    "    def turn_off(self):\n",
    "        self.dvd_player.turn_off()\n",
    "        self.projector.turn_off()\n",
    "        self.sound_system.turn_off()\n",
    "        print(\"Home theater system is turned off.\")"
   ]
  },
  {
   "cell_type": "markdown",
   "metadata": {},
   "source": [
    "Next, we create the complex subsystem classes:"
   ]
  },
  {
   "cell_type": "code",
   "execution_count": 2,
   "metadata": {},
   "outputs": [],
   "source": [
    "# Subsystem Class: DVDPlayer\n",
    "class DVDPlayer:\n",
    "    def turn_on(self):\n",
    "        print(\"DVD player is turned on.\")\n",
    "\n",
    "    def turn_off(self):\n",
    "        print(\"DVD player is turned off.\")\n",
    "\n",
    "\n",
    "# Subsystem Class: Projector\n",
    "class Projector:\n",
    "    def turn_on(self):\n",
    "        print(\"Projector is turned on.\")\n",
    "\n",
    "    def turn_off(self):\n",
    "        print(\"Projector is turned off.\")\n",
    "\n",
    "\n",
    "# Subsystem Class: SoundSystem\n",
    "class SoundSystem:\n",
    "    def turn_on(self):\n",
    "        print(\"Sound system is turned on.\")\n",
    "\n",
    "    def turn_off(self):\n",
    "        print(\"Sound system is turned off.\")"
   ]
  },
  {
   "cell_type": "markdown",
   "metadata": {},
   "source": [
    "Finally, the client code can use the HomeTheaterFacade to interact with the home theater system:"
   ]
  },
  {
   "cell_type": "code",
   "execution_count": 3,
   "metadata": {},
   "outputs": [
    {
     "name": "stdout",
     "output_type": "stream",
     "text": [
      "DVD player is turned on.\n",
      "Projector is turned on.\n",
      "Sound system is turned on.\n",
      "Home theater system is turned on.\n",
      "DVD player is turned off.\n",
      "Projector is turned off.\n",
      "Sound system is turned off.\n",
      "Home theater system is turned off.\n"
     ]
    }
   ],
   "source": [
    "# Client Code\n",
    "if __name__ == \"__main__\":\n",
    "    dvd_player = DVDPlayer()\n",
    "    projector = Projector()\n",
    "    sound_system = SoundSystem()\n",
    "\n",
    "    home_theater = HomeTheaterFacade(dvd_player, projector, sound_system)\n",
    "\n",
    "    # Turn on the home theater system\n",
    "    home_theater.turn_on()\n",
    "\n",
    "    # Turn off the home theater system\n",
    "    home_theater.turn_off()\n"
   ]
  },
  {
   "cell_type": "markdown",
   "metadata": {},
   "source": [
    "In this example, the Facade Design Pattern provides a simplified interface (HomeTheaterFacade) to the complex home theater system, which consists of multiple subsystem classes (DVDPlayer, Projector, and SoundSystem). The client code interacts with the home theater system using the HomeTheaterFacade, encapsulating the complexities of the underlying subsystem classes. This promotes a more organized and structured way of accessing the home theater system, making it easier to use and maintain. The Facade pattern simplifies the interaction with complex subsystems, providing a unified and easy-to-use interface for clients."
   ]
  }
 ],
 "metadata": {
  "kernelspec": {
   "display_name": "Python 3",
   "language": "python",
   "name": "python3"
  },
  "language_info": {
   "codemirror_mode": {
    "name": "ipython",
    "version": 3
   },
   "file_extension": ".py",
   "mimetype": "text/x-python",
   "name": "python",
   "nbconvert_exporter": "python",
   "pygments_lexer": "ipython3",
   "version": "3.9.14"
  },
  "orig_nbformat": 4
 },
 "nbformat": 4,
 "nbformat_minor": 2
}
