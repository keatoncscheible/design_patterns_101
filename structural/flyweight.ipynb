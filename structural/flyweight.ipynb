{
 "cells": [
  {
   "attachments": {},
   "cell_type": "markdown",
   "metadata": {},
   "source": [
    "# Flyweight Design Pattern\n",
    "\n",
    "The **Flyweight Design Pattern** is a structural design pattern that aims to minimize memory usage by sharing as much data as possible among multiple objects. It is particularly useful when dealing with a large number of similar objects, where the same data is repeated across instances. The pattern achieves this by separating the intrinsic (shared) and extrinsic (non-shared) states of objects, reducing memory consumption and improving performance.\n",
    "\n",
    "### Intent\n",
    "\n",
    "The intent of the Flyweight Design Pattern is to conserve memory by sharing common data among multiple objects. It allows a large number of fine-grained objects to be efficiently represented by a smaller number of shared objects. The pattern achieves a balance between memory efficiency and object-oriented abstraction.\n",
    "\n",
    "### Structure\n",
    "\n",
    "The main components of the Flyweight Design Pattern are:\n",
    "\n",
    "1. **Flyweight**: This is the interface or abstract class that defines the methods to interact with shared objects. It contains the intrinsic state that is shared among multiple objects.\n",
    "2. **ConcreteFlyweight**: Concrete implementations of the Flyweight interface that represent the shared objects. They store the intrinsic state and can be shared among multiple contexts.\n",
    "3. **FlyweightFactory**: The FlyweightFactory is responsible for creating and managing the shared Flyweight objects. It ensures that Flyweight objects are shared and not duplicated unnecessarily.\n",
    "4. **Context**: The Context represents the extrinsic state of objects, which is unique to each object. It is passed to the Flyweight methods to provide the context-specific behavior.\n",
    "\n",
    "### Example of Flyweight in Python\n",
    "\n",
    "Let's consider an example where we want to create a text editor that stores and displays various characters with different fonts. Since many characters can share the same font, we'll use the Flyweight pattern to optimize memory usage by sharing common fonts among characters.\n",
    "\n",
    "First, we define the Flyweight interface:"
   ]
  },
  {
   "cell_type": "code",
   "execution_count": 1,
   "metadata": {},
   "outputs": [],
   "source": [
    "# Flyweight: CharacterFlyweight\n",
    "from abc import ABC, abstractmethod\n",
    "\n",
    "class CharacterFlyweight(ABC):\n",
    "    @abstractmethod\n",
    "    def render(self, font):\n",
    "        pass"
   ]
  },
  {
   "cell_type": "markdown",
   "metadata": {},
   "source": [
    "Next, we create the ConcreteFlyweight representing the shared font:"
   ]
  },
  {
   "cell_type": "code",
   "execution_count": 2,
   "metadata": {},
   "outputs": [],
   "source": [
    "# ConcreteFlyweight: Font\n",
    "class Font(CharacterFlyweight):\n",
    "    def __init__(self, font_name):\n",
    "        self.font_name = font_name\n",
    "\n",
    "    def render(self, font):\n",
    "        return f\"Character with '{self.font_name}' font\""
   ]
  },
  {
   "cell_type": "markdown",
   "metadata": {},
   "source": [
    "Now, we define the FlyweightFactory:"
   ]
  },
  {
   "cell_type": "code",
   "execution_count": 3,
   "metadata": {},
   "outputs": [],
   "source": [
    "# FlyweightFactory: CharacterFlyweightFactory\n",
    "class CharacterFlyweightFactory:\n",
    "    def __init__(self):\n",
    "        self._flyweights = {}\n",
    "\n",
    "    def get_flyweight(self, font_name):\n",
    "        if font_name not in self._flyweights:\n",
    "            self._flyweights[font_name] = Font(font_name)\n",
    "        return self._flyweights[font_name]"
   ]
  },
  {
   "cell_type": "markdown",
   "metadata": {},
   "source": [
    "Finally, we create the Context representing the individual characters:"
   ]
  },
  {
   "cell_type": "code",
   "execution_count": 4,
   "metadata": {},
   "outputs": [],
   "source": [
    "# Context: Character\n",
    "class Character:\n",
    "    def __init__(self, character, font_name):\n",
    "        self.character = character\n",
    "        self.font = CharacterFlyweightFactory().get_flyweight(font_name)\n",
    "\n",
    "    def render(self):\n",
    "        return self.font.render(self.character)"
   ]
  },
  {
   "cell_type": "markdown",
   "metadata": {},
   "source": [
    "Now, the client code can use the Character class to display various characters with different fonts efficiently:"
   ]
  },
  {
   "cell_type": "code",
   "execution_count": 5,
   "metadata": {},
   "outputs": [
    {
     "name": "stdout",
     "output_type": "stream",
     "text": [
      "Character with 'Arial' font\n",
      "Character with 'Times New Roman' font\n",
      "Character with 'Arial' font\n",
      "Character with 'Calibri' font\n",
      "Character with 'Times New Roman' font\n"
     ]
    }
   ],
   "source": [
    "# Client Code\n",
    "if __name__ == \"__main__\":\n",
    "    characters = [\n",
    "        Character(\"A\", \"Arial\"),\n",
    "        Character(\"B\", \"Times New Roman\"),\n",
    "        Character(\"C\", \"Arial\"),\n",
    "        Character(\"D\", \"Calibri\"),\n",
    "        Character(\"E\", \"Times New Roman\"),\n",
    "    ]\n",
    "\n",
    "    for character in characters:\n",
    "        print(character.render())"
   ]
  },
  {
   "cell_type": "markdown",
   "metadata": {},
   "source": [
    "In this example, the Flyweight Design Pattern optimizes memory usage by sharing common font data among characters. The CharacterFlyweightFactory ensures that the Font Flyweight objects are shared and reused whenever possible. This results in reduced memory consumption and improved performance, especially when dealing with a large number of similar characters with the same font. The Flyweight pattern allows fine-grained objects to be efficiently represented by a smaller number of shared objects, achieving a balance between memory efficiency and object-oriented abstraction."
   ]
  }
 ],
 "metadata": {
  "kernelspec": {
   "display_name": "Python 3",
   "language": "python",
   "name": "python3"
  },
  "language_info": {
   "codemirror_mode": {
    "name": "ipython",
    "version": 3
   },
   "file_extension": ".py",
   "mimetype": "text/x-python",
   "name": "python",
   "nbconvert_exporter": "python",
   "pygments_lexer": "ipython3",
   "version": "3.9.14"
  },
  "orig_nbformat": 4
 },
 "nbformat": 4,
 "nbformat_minor": 2
}
