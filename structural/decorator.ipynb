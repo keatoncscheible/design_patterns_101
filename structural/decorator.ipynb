{
 "cells": [
  {
   "attachments": {},
   "cell_type": "markdown",
   "metadata": {},
   "source": [
    "# Decorator Design Pattern\n",
    "\n",
    "#### Also Known As: *Wrapper*\n",
    "\n",
    "The **Decorator Design Pattern** is a structural design pattern that allows you to add new behavior or responsibilities to objects dynamically without modifying their code. It enhances the functionality of objects by wrapping them in one or more decorator classes, each providing additional features. This pattern is useful when you want to extend the capabilities of objects at runtime without using inheritance.\n",
    "\n",
    "### Intent\n",
    "\n",
    "The intent of the Decorator Design Pattern is to add new functionality to objects by \"decorating\" them with additional behavior at runtime. It allows for a flexible and scalable way to extend the functionality of objects without altering their original code. The pattern promotes the principle of \"Open/Closed\" where classes are open for extension but closed for modification.\n",
    "\n",
    "### Structure\n",
    "\n",
    "The main components of the Decorator Design Pattern are:\n",
    "\n",
    "1. **Component**: This is the interface or abstract class representing the base object's interface. It defines the methods that decorators and concrete components must implement.\n",
    "2. **ConcreteComponent**: The ConcreteComponent class is the base object that decorators extend. It provides the core functionality that decorators can enhance.\n",
    "3. **Decorator**: The Decorator class is the abstract class that acts as the base class for all decorators. It contains a reference to the Component and implements its methods while delegating calls to the Component.\n",
    "4. **ConcreteDecorator**: ConcreteDecorator classes are the actual decorators that extend the Decorator class and add new behavior or responsibilities to the Component.\n",
    "\n",
    "### Example of Decorator in Python\n",
    "\n",
    "Let's consider an example of a coffee shop where we have a base coffee class and different decorators for adding extra ingredients like milk and sugar to the coffee. We'll use the Decorator pattern to enhance the coffee with additional ingredients without modifying its original code.\n",
    "\n",
    "First, we define the Component interface:"
   ]
  },
  {
   "cell_type": "code",
   "execution_count": 1,
   "metadata": {},
   "outputs": [],
   "source": [
    "# Component: Coffee\n",
    "from abc import ABC, abstractmethod\n",
    "\n",
    "class Coffee(ABC):\n",
    "    @abstractmethod\n",
    "    def get_cost(self):\n",
    "        pass\n",
    "\n",
    "    @abstractmethod\n",
    "    def get_description(self):\n",
    "        pass"
   ]
  },
  {
   "cell_type": "markdown",
   "metadata": {},
   "source": [
    "Next, we create the ConcreteComponent representing the base coffee:"
   ]
  },
  {
   "cell_type": "code",
   "execution_count": 2,
   "metadata": {},
   "outputs": [],
   "source": [
    "# ConcreteComponent: SimpleCoffee\n",
    "class SimpleCoffee(Coffee):\n",
    "    def get_cost(self):\n",
    "        return 5\n",
    "\n",
    "    def get_description(self):\n",
    "        return \"Simple Coffee\""
   ]
  },
  {
   "cell_type": "markdown",
   "metadata": {},
   "source": [
    "Now, we define the Decorator abstract class:"
   ]
  },
  {
   "cell_type": "code",
   "execution_count": 3,
   "metadata": {},
   "outputs": [],
   "source": [
    "# Decorator: CoffeeDecorator\n",
    "class CoffeeDecorator(Coffee):\n",
    "    def __init__(self, decorated_coffee):\n",
    "        self.decorated_coffee = decorated_coffee\n",
    "\n",
    "    def get_cost(self):\n",
    "        return self.decorated_coffee.get_cost()\n",
    "\n",
    "    def get_description(self):\n",
    "        return self.decorated_coffee.get_description()"
   ]
  },
  {
   "cell_type": "markdown",
   "metadata": {},
   "source": [
    "Next, we create the ConcreteDecorator classes for adding milk and sugar:"
   ]
  },
  {
   "cell_type": "code",
   "execution_count": 4,
   "metadata": {},
   "outputs": [],
   "source": [
    "# ConcreteDecorator: MilkDecorator\n",
    "class MilkDecorator(CoffeeDecorator):\n",
    "    def get_cost(self):\n",
    "        return self.decorated_coffee.get_cost() + 2\n",
    "\n",
    "    def get_description(self):\n",
    "        return self.decorated_coffee.get_description() + \", Milk\"\n",
    "\n",
    "\n",
    "# ConcreteDecorator: SugarDecorator\n",
    "class SugarDecorator(CoffeeDecorator):\n",
    "    def get_cost(self):\n",
    "        return self.decorated_coffee.get_cost() + 1\n",
    "\n",
    "    def get_description(self):\n",
    "        return self.decorated_coffee.get_description() + \", Sugar\""
   ]
  },
  {
   "cell_type": "markdown",
   "metadata": {},
   "source": [
    "Finally, the client code can use the decorators to enhance the coffee with milk and sugar:"
   ]
  },
  {
   "cell_type": "code",
   "execution_count": 5,
   "metadata": {},
   "outputs": [
    {
     "name": "stdout",
     "output_type": "stream",
     "text": [
      "Simple Coffee, Milk, Sugar costs $8.\n"
     ]
    }
   ],
   "source": [
    "# Client Code\n",
    "if __name__ == \"__main__\":\n",
    "    simple_coffee = SimpleCoffee()\n",
    "    milk_coffee = MilkDecorator(simple_coffee)\n",
    "    milk_sugar_coffee = SugarDecorator(milk_coffee)\n",
    "\n",
    "    print(f\"{milk_sugar_coffee.get_description()} costs ${milk_sugar_coffee.get_cost()}.\")"
   ]
  },
  {
   "cell_type": "markdown",
   "metadata": {},
   "source": [
    "In this example, the Decorator Design Pattern allows us to enhance the SimpleCoffee object with additional ingredients like Milk and Sugar using the MilkDecorator and SugarDecorator. The client code can interact with the coffee objects uniformly using the Coffee interface, treating them as Coffee objects. This promotes flexibility and scalability in adding new features to coffee objects at runtime without modifying their original code. The Decorator pattern enhances the functionality of objects dynamically, making it a powerful pattern for extending the capabilities of objects in a flexible and maintainable way."
   ]
  }
 ],
 "metadata": {
  "kernelspec": {
   "display_name": "Python 3",
   "language": "python",
   "name": "python3"
  },
  "language_info": {
   "codemirror_mode": {
    "name": "ipython",
    "version": 3
   },
   "file_extension": ".py",
   "mimetype": "text/x-python",
   "name": "python",
   "nbconvert_exporter": "python",
   "pygments_lexer": "ipython3",
   "version": "3.9.14"
  },
  "orig_nbformat": 4
 },
 "nbformat": 4,
 "nbformat_minor": 2
}
