{
 "cells": [
  {
   "attachments": {},
   "cell_type": "markdown",
   "metadata": {},
   "source": [
    "# Bridge Design Pattern\n",
    "\n",
    "#### Also Known As: *Handle/Body*\n",
    "\n",
    "The **Bridge Design Pattern** is a structural design pattern that decouples an abstraction from its implementation, allowing both to vary independently. It aims to avoid a permanent binding between an abstraction (abstraction interface) and its concrete implementation, promoting flexibility and extensibility in the system.\n",
    "\n",
    "### Intent\n",
    "\n",
    "The intent of the Bridge Design Pattern is to separate the abstraction from its implementation, enabling the two to vary independently. By doing so, changes to the abstraction or implementation do not affect each other, and new abstractions or implementations can be added without modifying existing code. This pattern is particularly useful when there are multiple dimensions of variation in a system.\n",
    "\n",
    "### Structure\n",
    "\n",
    "The main components of the Bridge Design Pattern are:\n",
    "\n",
    "1. **Abstraction**: This is the high-level abstraction interface that defines the abstract methods or features that the client code can use. It usually contains a reference to the implementation interface.\n",
    "2. **Refined Abstraction**: This is a subclass of the Abstraction that provides additional functionality or specialization on top of the basic abstraction.\n",
    "3. **Implementation**: This is the interface that defines the methods that concrete implementations must implement. It is separate from the Abstraction interface and can vary independently.\n",
    "4. **Concrete Implementation**: This is the concrete implementation of the Implementation interface.\n",
    "\n",
    "### Example of Bridge in Python\n",
    "\n",
    "Let's consider an example of a drawing application that supports different shapes (e.g., circles and squares) and rendering methods (e.g., vector and raster). We'll use the Bridge pattern to decouple the shapes from the rendering methods, allowing them to vary independently.\n",
    "\n",
    "First, we define the Abstraction interface:"
   ]
  },
  {
   "cell_type": "code",
   "execution_count": 1,
   "metadata": {},
   "outputs": [],
   "source": [
    "# Abstraction: Shape\n",
    "from abc import ABC, abstractmethod\n",
    "from typing import List\n",
    "\n",
    "class Shape(ABC):\n",
    "    def __init__(self, renderers):\n",
    "        self.renderers = renderers\n",
    "\n",
    "    @abstractmethod\n",
    "    def draw(self) -> str:\n",
    "        pass"
   ]
  },
  {
   "cell_type": "markdown",
   "metadata": {},
   "source": [
    "Next, we create the Refinement Abstraction subclasses:"
   ]
  },
  {
   "cell_type": "code",
   "execution_count": 2,
   "metadata": {},
   "outputs": [],
   "source": [
    "# Refined Abstraction: Circle\n",
    "class Circle(Shape):\n",
    "    def draw(self) -> str:\n",
    "        results = []\n",
    "        for renderer in self.renderers:\n",
    "            results.append(f\"Drawing Circle with {renderer.render()}\")\n",
    "        return \"\\n\".join(results)\n",
    "\n",
    "# Refined Abstraction: Square\n",
    "class Square(Shape):\n",
    "    def draw(self) -> str:\n",
    "        results = []\n",
    "        for renderer in self.renderers:\n",
    "            results.append(f\"Drawing Square with {renderer.render()}\")\n",
    "        return \"\\n\".join(results)"
   ]
  },
  {
   "cell_type": "markdown",
   "metadata": {},
   "source": [
    "Now, we define the Implementation interface:"
   ]
  },
  {
   "cell_type": "code",
   "execution_count": 3,
   "metadata": {},
   "outputs": [],
   "source": [
    "# Implementation: Renderer\n",
    "from abc import ABC, abstractmethod\n",
    "\n",
    "class Renderer(ABC):\n",
    "    @abstractmethod\n",
    "    def render(self) -> str:\n",
    "        pass"
   ]
  },
  {
   "cell_type": "markdown",
   "metadata": {},
   "source": [
    "Next, we create the Concrete Implementation classes:"
   ]
  },
  {
   "cell_type": "code",
   "execution_count": 4,
   "metadata": {},
   "outputs": [],
   "source": [
    "# Concrete Implementation: VectorRenderer\n",
    "class VectorRenderer(Renderer):\n",
    "    def render(self) -> str:\n",
    "        return \"Vector Rendering\"\n",
    "\n",
    "# Concrete Implementation: RasterRenderer\n",
    "class RasterRenderer(Renderer):\n",
    "    def render(self) -> str:\n",
    "        return \"Raster Rendering\""
   ]
  },
  {
   "cell_type": "markdown",
   "metadata": {},
   "source": [
    "Finally, the client code can create different shapes and rendering methods and use them together:"
   ]
  },
  {
   "cell_type": "code",
   "execution_count": 5,
   "metadata": {},
   "outputs": [
    {
     "name": "stdout",
     "output_type": "stream",
     "text": [
      "Drawing Circle with Vector Rendering\n",
      "Drawing Circle with Raster Rendering\n",
      "Drawing Square with Vector Rendering\n"
     ]
    }
   ],
   "source": [
    "# Client Code\n",
    "if __name__ == \"__main__\":\n",
    "    vector_renderer = VectorRenderer()\n",
    "    raster_renderer = RasterRenderer()\n",
    "\n",
    "    circle = Circle([vector_renderer, raster_renderer])\n",
    "    square = Square([vector_renderer])\n",
    "\n",
    "    print(circle.draw())\n",
    "    print(square.draw())\n"
   ]
  },
  {
   "cell_type": "markdown",
   "metadata": {},
   "source": [
    "In this example, the Bridge Design Pattern decouples the shapes (Circle and Square) from the rendering methods (VectorRenderer and RasterRenderer). The client code can use the `draw()` method on the shapes with different rendering methods, and the shapes use the renderers to render themselves accordingly. This demonstrates how the Bridge pattern promotes flexibility and independence between abstractions and their implementations, allowing for easy addition of new shapes or rendering methods without modifying existing code."
   ]
  }
 ],
 "metadata": {
  "kernelspec": {
   "display_name": "Python 3",
   "language": "python",
   "name": "python3"
  },
  "language_info": {
   "codemirror_mode": {
    "name": "ipython",
    "version": 3
   },
   "file_extension": ".py",
   "mimetype": "text/x-python",
   "name": "python",
   "nbconvert_exporter": "python",
   "pygments_lexer": "ipython3",
   "version": "3.9.14"
  },
  "orig_nbformat": 4
 },
 "nbformat": 4,
 "nbformat_minor": 2
}
