{
 "cells": [
  {
   "attachments": {},
   "cell_type": "markdown",
   "metadata": {},
   "source": [
    "# Abstract Factory Design Pattern\n",
    "\n",
    "#### Also Known As: *Kit*\n",
    " \n",
    "The **Abstract Factory Design Pattern** is a creational design pattern, which means it focuses on the process of object creation. The pattern provides an interface for creating families of related or dependent objects without specifying their concrete classes. It allows you to create objects that are related by a common theme, ensuring that the objects created are compatible and follow the same set of rules.\n",
    "\n",
    "### Intent\n",
    "The intent of the Abstract Factory Design Pattern is to provide an interface for creating families of objects without specifying their concrete classes. This allows the client code to work with various families of objects in a consistent manner, promoting flexibility and easy extensibility.\n",
    "\n",
    "### Structure\n",
    "The main components of the Abstract Factory Design Pattern are:\n",
    "1. **AbstractFactory:** This is the interface that declares the creation methods for the different types of objects that form a family.\n",
    "2. **ConcreteFactory:** ConcreteFactory classes implement the AbstractFactory interface and are responsible for creating specific product objects.\n",
    "3. **AbstractProduct:** This is the interface for the different types of products that are part of the families.\n",
    "4. **ConcreteProduct:** ConcreteProduct classes implement the AbstractProduct interface and represent the specific product objects that the ConcreteFactory creates.\n",
    "5. **Client:** The client code works with factories and products through their abstract interfaces, which allows it to create families of related objects without being tied to specific classes.\n",
    "\n",
    "### Example of Abstract Factory in Python\n",
    "\n",
    "Let's consider an example of a GUI (Graphical User Interface) library that supports multiple operating systems: Windows and macOS. We want to create buttons and checkboxes for each operating system while ensuring they are compatible within the same OS.\n",
    "\n",
    "First, we define the abstract interfaces for the products:"
   ]
  },
  {
   "cell_type": "code",
   "execution_count": 1,
   "metadata": {},
   "outputs": [],
   "source": [
    "# Abstract Product: Button\n",
    "class Button:\n",
    "    def render(self):\n",
    "        pass\n",
    "\n",
    "# Abstract Product: Checkbox\n",
    "class Checkbox:\n",
    "    def render(self):\n",
    "        pass"
   ]
  },
  {
   "cell_type": "markdown",
   "metadata": {},
   "source": [
    "Next, we create concrete implementations of the products for each operating system:"
   ]
  },
  {
   "cell_type": "code",
   "execution_count": 2,
   "metadata": {},
   "outputs": [],
   "source": [
    "# Concrete Product: WindowsButton\n",
    "class WindowsButton(Button):\n",
    "    def render(self):\n",
    "        return \"Render a Windows style button.\"\n",
    "\n",
    "# Concrete Product: WindowsCheckbox\n",
    "class WindowsCheckbox(Checkbox):\n",
    "    def render(self):\n",
    "        return \"Render a Windows style checkbox.\"\n",
    "\n",
    "# Concrete Product: MacOSButton\n",
    "class MacOSButton(Button):\n",
    "    def render(self):\n",
    "        return \"Render a macOS style button.\"\n",
    "\n",
    "# Concrete Product: MacOSCheckbox\n",
    "class MacOSCheckbox(Checkbox):\n",
    "    def render(self):\n",
    "        return \"Render a macOS style checkbox.\""
   ]
  },
  {
   "cell_type": "markdown",
   "metadata": {},
   "source": [
    "Now, we define the abstract factory interface:"
   ]
  },
  {
   "cell_type": "code",
   "execution_count": 3,
   "metadata": {},
   "outputs": [],
   "source": [
    "# Abstract Factory\n",
    "class GUIFactory:\n",
    "    def create_button(self) -> Button:\n",
    "        pass\n",
    "\n",
    "    def create_checkbox(self) -> Checkbox:\n",
    "        pass"
   ]
  },
  {
   "cell_type": "markdown",
   "metadata": {},
   "source": [
    "Next, we create concrete implementations of the factory for each operating system:"
   ]
  },
  {
   "cell_type": "code",
   "execution_count": 4,
   "metadata": {},
   "outputs": [],
   "source": [
    "# Concrete Factory: WindowsFactory\n",
    "class WindowsFactory(GUIFactory):\n",
    "    def create_button(self) -> Button:\n",
    "        return WindowsButton()\n",
    "\n",
    "    def create_checkbox(self) -> Checkbox:\n",
    "        return WindowsCheckbox()\n",
    "\n",
    "# Concrete Factory: MacOSFactory\n",
    "class MacOSFactory(GUIFactory):\n",
    "    def create_button(self) -> Button:\n",
    "        return MacOSButton()\n",
    "\n",
    "    def create_checkbox(self) -> Checkbox:\n",
    "        return MacOSCheckbox()"
   ]
  },
  {
   "cell_type": "markdown",
   "metadata": {},
   "source": [
    "Finally, the client code can create GUI elements without being tied to specific operating system classes:"
   ]
  },
  {
   "cell_type": "code",
   "execution_count": 5,
   "metadata": {},
   "outputs": [
    {
     "name": "stdout",
     "output_type": "stream",
     "text": [
      "Render a Windows style button.\n",
      "Render a Windows style checkbox.\n",
      "Render a macOS style button.\n",
      "Render a macOS style checkbox.\n"
     ]
    }
   ],
   "source": [
    "# Client Code\n",
    "def create_gui(factory: GUIFactory):\n",
    "    button = factory.create_button()\n",
    "    checkbox = factory.create_checkbox()\n",
    "    return button.render(), checkbox.render()\n",
    "\n",
    "# Example usage\n",
    "if __name__ == \"__main__\":\n",
    "    windows_factory = WindowsFactory()\n",
    "    macos_factory = MacOSFactory()\n",
    "\n",
    "    windows_button, windows_checkbox = create_gui(windows_factory)\n",
    "    print(windows_button)\n",
    "    print(windows_checkbox)\n",
    "\n",
    "    macos_button, macos_checkbox = create_gui(macos_factory)\n",
    "    print(macos_button)\n",
    "    print(macos_checkbox)"
   ]
  },
  {
   "cell_type": "markdown",
   "metadata": {},
   "source": [
    "In this example, depending on which factory is used (WindowsFactory or MacOSFactory), the client code can create GUI elements that are consistent within their respective operating systems. This demonstrates how the Abstract Factory Design Pattern enables us to create families of related objects without tightly coupling the code to specific implementations."
   ]
  }
 ],
 "metadata": {
  "kernelspec": {
   "display_name": "Python 3",
   "language": "python",
   "name": "python3"
  },
  "language_info": {
   "codemirror_mode": {
    "name": "ipython",
    "version": 3
   },
   "file_extension": ".py",
   "mimetype": "text/x-python",
   "name": "python",
   "nbconvert_exporter": "python",
   "pygments_lexer": "ipython3",
   "version": "3.9.14"
  },
  "orig_nbformat": 4
 },
 "nbformat": 4,
 "nbformat_minor": 2
}
