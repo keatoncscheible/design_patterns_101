{
 "cells": [
  {
   "attachments": {},
   "cell_type": "markdown",
   "metadata": {},
   "source": [
    "# Factory Method Design Pattern\n",
    "\n",
    "#### Also Known As: *Virtual Constructor*\n",
    "\n",
    "The **Factory Method Design Pattern** is a creational design pattern that provides an interface for creating objects but allows subclasses to decide which class to instantiate. It promotes loose coupling by deferring the instantiation of the object to its subclasses, which can override the factory method to return different types of objects.\n",
    "\n",
    "### Intent\n",
    "\n",
    "The intent of the Factory Method Design Pattern is to decouple the client code from the concrete classes it needs to instantiate. It allows the client code to work with the objects through their common interface, without having to know the specific class being instantiated. This promotes flexibility and extensibility in the codebase.\n",
    "\n",
    "### Structure\n",
    "\n",
    "The main components of the Factory Method Design Pattern are:\n",
    "\n",
    "1. **Product**: This is the interface or abstract class representing the objects that the factory method creates.\n",
    "2. **ConcreteProduct**: Concrete implementations of the Product interface or class.\n",
    "3. **Creator**: This is the abstract class that declares the factory method, which returns a Product object. It may also provide default implementation for the factory method and other common operations on products.\n",
    "4. **ConcreteCreator**: Concrete implementations of the Creator class, which override the factory method to return a specific type of ConcreteProduct.\n",
    "\n",
    "### Example of Factory Method in Python\n",
    "\n",
    "Let's consider an example of a simple payment processing system that handles different payment methods: Credit Card and PayPal. We'll use the Factory Method pattern to create the payment processor based on the selected payment method.\n",
    "\n",
    "First, we define the Product interface:"
   ]
  },
  {
   "cell_type": "code",
   "execution_count": 1,
   "metadata": {},
   "outputs": [],
   "source": [
    "# Product: PaymentProcessor\n",
    "class PaymentProcessor:\n",
    "    def process_payment(self, amount):\n",
    "        pass"
   ]
  },
  {
   "cell_type": "markdown",
   "metadata": {},
   "source": [
    "Next, we create the ConcreteProduct classes:"
   ]
  },
  {
   "cell_type": "code",
   "execution_count": 2,
   "metadata": {},
   "outputs": [],
   "source": [
    "# Concrete Product: CreditCardPaymentProcessor\n",
    "class CreditCardPaymentProcessor(PaymentProcessor):\n",
    "    def process_payment(self, amount):\n",
    "        return f\"Processing credit card payment of ${amount}\"\n",
    "\n",
    "# Concrete Product: PayPalPaymentProcessor\n",
    "class PayPalPaymentProcessor(PaymentProcessor):\n",
    "    def process_payment(self, amount):\n",
    "        return f\"Processing PayPal payment of ${amount}\""
   ]
  },
  {
   "cell_type": "markdown",
   "metadata": {},
   "source": [
    "Now, we define the Creator abstract class:"
   ]
  },
  {
   "cell_type": "code",
   "execution_count": 3,
   "metadata": {},
   "outputs": [],
   "source": [
    "# Creator: PaymentProcessorFactory\n",
    "class PaymentProcessorFactory:\n",
    "    def create_payment_processor(self):\n",
    "        pass"
   ]
  },
  {
   "cell_type": "markdown",
   "metadata": {},
   "source": [
    "Next, we create the ConcreteCreator classes:"
   ]
  },
  {
   "cell_type": "code",
   "execution_count": 4,
   "metadata": {},
   "outputs": [],
   "source": [
    "# Concrete Creator: CreditCardPaymentProcessorFactory\n",
    "class CreditCardPaymentProcessorFactory(PaymentProcessorFactory):\n",
    "    def create_payment_processor(self):\n",
    "        return CreditCardPaymentProcessor()\n",
    "\n",
    "# Concrete Creator: PayPalPaymentProcessorFactory\n",
    "class PayPalPaymentProcessorFactory(PaymentProcessorFactory):\n",
    "    def create_payment_processor(self):\n",
    "        return PayPalPaymentProcessor()"
   ]
  },
  {
   "cell_type": "markdown",
   "metadata": {},
   "source": [
    "Finally, the client code can use the factory method to create the appropriate payment processor:"
   ]
  },
  {
   "cell_type": "code",
   "execution_count": 5,
   "metadata": {},
   "outputs": [
    {
     "name": "stdout",
     "output_type": "stream",
     "text": [
      "Processing credit card payment of $100\n",
      "Processing PayPal payment of $50\n"
     ]
    }
   ],
   "source": [
    "# Client Code\n",
    "if __name__ == \"__main__\":\n",
    "    # Use the CreditCardPaymentProcessorFactory to create a CreditCardPaymentProcessor\n",
    "    credit_card_factory = CreditCardPaymentProcessorFactory()\n",
    "    credit_card_processor = credit_card_factory.create_payment_processor()\n",
    "    print(credit_card_processor.process_payment(100))\n",
    "\n",
    "    # Use the PayPalPaymentProcessorFactory to create a PayPalPaymentProcessor\n",
    "    paypal_factory = PayPalPaymentProcessorFactory()\n",
    "    paypal_processor = paypal_factory.create_payment_processor()\n",
    "    print(paypal_processor.process_payment(50))"
   ]
  },
  {
   "cell_type": "markdown",
   "metadata": {},
   "source": [
    "In this example, the client code can create different payment processors without knowing the specific classes involved. The factory methods, create_payment_processor() in the ConcreteCreator classes, handle the instantiation of the appropriate payment processor based on the selected payment method. This demonstrates how the Factory Method Design Pattern decouples the client code from the product instantiation process and allows for flexible object creation."
   ]
  }
 ],
 "metadata": {
  "kernelspec": {
   "display_name": "Python 3",
   "language": "python",
   "name": "python3"
  },
  "language_info": {
   "codemirror_mode": {
    "name": "ipython",
    "version": 3
   },
   "file_extension": ".py",
   "mimetype": "text/x-python",
   "name": "python",
   "nbconvert_exporter": "python",
   "pygments_lexer": "ipython3",
   "version": "3.9.14"
  },
  "orig_nbformat": 4
 },
 "nbformat": 4,
 "nbformat_minor": 2
}
