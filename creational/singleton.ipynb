{
 "cells": [
  {
   "attachments": {},
   "cell_type": "markdown",
   "metadata": {},
   "source": [
    "# Singleton Design Pattern\n",
    "\n",
    "The **Singleton Design Pattern** is a creational design pattern that ensures a class has only one instance and provides a global point of access to that instance. It restricts the instantiation of a class to a single object, preventing multiple instances from being created. The Singleton pattern is particularly useful when you want to control access to shared resources, configuration settings, or objects that are expensive to create.\n",
    "\n",
    "### Intent\n",
    "\n",
    "The intent of the Singleton Design Pattern is to ensure that a class has only one instance and to provide a way to access that instance globally. It guarantees that the class remains consistent throughout the application and eliminates the possibility of unintended multiple instances.\n",
    "\n",
    "### Structure\n",
    "\n",
    "The Singleton Design Pattern typically has the following components:\n",
    "\n",
    "1. **Singleton**: This is the class that implements the Singleton pattern. It ensures that only one instance of itself is created and provides a static method to access that instance.\n",
    "2. **Instance**: The single instance of the Singleton class, usually accessed through a static method.\n",
    "3. **Static Method**: A method that provides access to the single instance of the Singleton class. This method usually handles the instantiation of the Singleton if it doesn't exist yet.\n",
    "\n",
    "### Example of Singleton in Python\n",
    "\n",
    "Let's consider an example of a Logger class, which is a common use case for the Singleton pattern. We want to ensure that we have only one instance of the Logger throughout the application to avoid redundant log files and resource consumption."
   ]
  },
  {
   "cell_type": "code",
   "execution_count": 1,
   "metadata": {},
   "outputs": [],
   "source": [
    "# Singleton: Logger\n",
    "class Logger:\n",
    "    _instance = None\n",
    "\n",
    "    def __new__(cls, *args, **kwargs):\n",
    "        if not cls._instance:\n",
    "            cls._instance = super(Logger, cls).__new__(cls, *args, **kwargs)\n",
    "        return cls._instance\n",
    "\n",
    "    def log(self, message):\n",
    "        print(message)"
   ]
  },
  {
   "cell_type": "markdown",
   "metadata": {},
   "source": [
    "In this example, the Logger class is a Singleton because we override the `__new__` method to ensure that only one instance of the class is created. The `_instance` class variable keeps track of the single instance. If the instance doesn't exist, we create it using the `super()` method. If the instance already exists, we return the existing instance.\n",
    "\n",
    "Now, let's demonstrate how to use the Logger Singleton:"
   ]
  },
  {
   "cell_type": "code",
   "execution_count": 2,
   "metadata": {},
   "outputs": [
    {
     "name": "stdout",
     "output_type": "stream",
     "text": [
      "Loggers are the same: True\n",
      "This is a log message from logger1.\n",
      "This is a log message from logger2.\n"
     ]
    }
   ],
   "source": [
    "# Client Code\n",
    "if __name__ == \"__main__\":\n",
    "    logger1 = Logger()\n",
    "    logger2 = Logger()\n",
    "\n",
    "    # Both logger1 and logger2 refer to the same instance\n",
    "    print(f\"Loggers are the same: {logger1 is logger2}\")  \n",
    "\n",
    "    # Logging using the Singleton instance\n",
    "    logger1.log(\"This is a log message from logger1.\")\n",
    "    logger2.log(\"This is a log message from logger2.\")"
   ]
  },
  {
   "cell_type": "markdown",
   "metadata": {},
   "source": [
    "In this example, we create two instances of the Logger class, `logger1` and `logger2`. However, both of them refer to the same Singleton instance. As a result, when we log messages using either `logger1` or `logger2`, the log messages will be written to the same \"log.txt\" file, demonstrating that there is only one instance of the Logger throughout the application.\n",
    "\n",
    "The Singleton Design Pattern ensures that the Logger class has a single global instance, which helps us maintain consistent logging behavior and prevent multiple redundant log files."
   ]
  }
 ],
 "metadata": {
  "kernelspec": {
   "display_name": "Python 3",
   "language": "python",
   "name": "python3"
  },
  "language_info": {
   "codemirror_mode": {
    "name": "ipython",
    "version": 3
   },
   "file_extension": ".py",
   "mimetype": "text/x-python",
   "name": "python",
   "nbconvert_exporter": "python",
   "pygments_lexer": "ipython3",
   "version": "3.9.14"
  },
  "orig_nbformat": 4
 },
 "nbformat": 4,
 "nbformat_minor": 2
}
