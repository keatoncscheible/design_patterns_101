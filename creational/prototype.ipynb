{
 "cells": [
  {
   "attachments": {},
   "cell_type": "markdown",
   "metadata": {},
   "source": [
    "# Prototype Design Pattern\n",
    "\n",
    "The **Prototype Design Pattern** is a creational design pattern that allows the creation of new objects by copying existing objects, known as prototypes. The pattern provides a way to create objects without explicitly specifying their exact class, promoting flexibility and reducing the need for subclassing.\n",
    "\n",
    "### Intent\n",
    "The intent of the Prototype Design Pattern is to create new objects by copying existing ones, without coupling the client code to the concrete classes of the objects being created. It is useful when the cost of creating a new object is more expensive than copying an existing one, or when object creation involves complex setup that can be reused.\n",
    "\n",
    "### Structure\n",
    "The main components of the Prototype Design Pattern are:\n",
    "\n",
    "1. **Prototype**: This is the interface or abstract class that declares the method for cloning itself. It can be a concrete class, an abstract class, or an interface.\n",
    "2. **ConcretePrototype**: Concrete implementations of the Prototype interface, which provide the cloning functionality by copying their own data to create new objects.\n",
    "3. **Client**: The client code creates new objects by requesting the Prototype to clone itself.\n",
    "\n",
    "### Example of Prototype in Python\n",
    "Let's consider an example of a graphic object library that supports different types of shapes: Circle, Rectangle, and Square. We'll use the Prototype pattern to create new shapes by cloning existing ones.\n",
    "\n",
    "First, we define the Prototype interface:"
   ]
  },
  {
   "cell_type": "code",
   "execution_count": 1,
   "metadata": {},
   "outputs": [],
   "source": [
    "# Prototype: Shape\n",
    "from abc import ABC, abstractmethod\n",
    "\n",
    "class Shape(ABC):\n",
    "    @abstractmethod\n",
    "    def clone(self):\n",
    "        pass"
   ]
  },
  {
   "cell_type": "markdown",
   "metadata": {},
   "source": [
    "Next, we create the ConcretePrototype classes:"
   ]
  },
  {
   "cell_type": "code",
   "execution_count": 2,
   "metadata": {},
   "outputs": [],
   "source": [
    "# Concrete Prototype: Circle\n",
    "class Circle(Shape):\n",
    "    def __init__(self, radius):\n",
    "        self.radius = radius\n",
    "\n",
    "    def clone(self):\n",
    "        return Circle(self.radius)\n",
    "\n",
    "# Concrete Prototype: Rectangle\n",
    "class Rectangle(Shape):\n",
    "    def __init__(self, width, height):\n",
    "        self.width = width\n",
    "        self.height = height\n",
    "\n",
    "    def clone(self):\n",
    "        return Rectangle(self.width, self.height)\n",
    "\n",
    "# Concrete Prototype: Square\n",
    "class Square(Shape):\n",
    "    def __init__(self, side):\n",
    "        self.side = side\n",
    "\n",
    "    def clone(self):\n",
    "        return Square(self.side)"
   ]
  },
  {
   "cell_type": "markdown",
   "metadata": {},
   "source": [
    "Now, the client code can create new shapes by cloning existing ones:"
   ]
  },
  {
   "cell_type": "code",
   "execution_count": 3,
   "metadata": {},
   "outputs": [
    {
     "name": "stdout",
     "output_type": "stream",
     "text": [
      "Circle: 5\n",
      "Rectangle: 10 5\n",
      "Square: 8\n"
     ]
    }
   ],
   "source": [
    "# Client Code\n",
    "if __name__ == \"__main__\":\n",
    "    # Create a prototype for each shape\n",
    "    circle_prototype = Circle(5)\n",
    "    rectangle_prototype = Rectangle(10, 5)\n",
    "    square_prototype = Square(8)\n",
    "\n",
    "    # Clone the prototypes to create new shapes\n",
    "    circle = circle_prototype.clone()\n",
    "    rectangle = rectangle_prototype.clone()\n",
    "    square = square_prototype.clone()\n",
    "\n",
    "    # Print the attributes of the new shapes\n",
    "    print(\"Circle:\", circle.radius)\n",
    "    print(\"Rectangle:\", rectangle.width, rectangle.height)\n",
    "    print(\"Square:\", square.side)"
   ]
  },
  {
   "cell_type": "markdown",
   "metadata": {},
   "source": [
    "In this example, the client code creates new shapes by cloning existing Circle, Rectangle, and Square prototypes. The Prototype pattern allows for easy creation of new shapes without explicitly knowing their classes, promoting flexibility and reducing code duplication. This demonstrates how the Prototype Design Pattern facilitates object creation through cloning and decouples the client from the specific classes of the objects being created."
   ]
  }
 ],
 "metadata": {
  "kernelspec": {
   "display_name": "Python 3",
   "language": "python",
   "name": "python3"
  },
  "language_info": {
   "codemirror_mode": {
    "name": "ipython",
    "version": 3
   },
   "file_extension": ".py",
   "mimetype": "text/x-python",
   "name": "python",
   "nbconvert_exporter": "python",
   "pygments_lexer": "ipython3",
   "version": "3.9.14"
  },
  "orig_nbformat": 4
 },
 "nbformat": 4,
 "nbformat_minor": 2
}
