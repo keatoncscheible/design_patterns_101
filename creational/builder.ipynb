{
 "cells": [
  {
   "attachments": {},
   "cell_type": "markdown",
   "metadata": {},
   "source": [
    "# Builder Design Pattern\n",
    "\n",
    "The **Builder Design Pattern** is a creational design pattern that focuses on creating complex objects step by step. It separates the construction of a complex object from its representation, allowing the same construction process to create different representations. The pattern is particularly useful when there are many optional components in an object, and it provides a way to construct the object with only the required components, leaving out the optional ones.\n",
    "\n",
    "### Intent\n",
    "The intent of the Builder Design Pattern is to abstract the construction of complex objects, making the construction process more flexible and reusable. It allows the client code to create different representations of an object without being concerned about the construction steps or the order in which they are executed.\n",
    "\n",
    "### Structure\n",
    "The main components of the Builder Design Pattern are:\n",
    "\n",
    "1. **Product**: This is the complex object that we want to create.\n",
    "2. **Builder**: The abstract interface that defines the construction steps required to build the product.\n",
    "3. **ConcreteBuilder**: ConcreteBuilder classes implement the Builder interface to construct and assemble the product. Different ConcreteBuilder classes can produce different representations of the product.\n",
    "4. **Director**: The Director class controls the construction process using a Builder object. It guides the construction steps and ensures that the product is built correctly.\n",
    "5. **Client**: The client code interacts with the Director to construct the product. It is not aware of the specific construction steps or the product's internal representation.\n",
    "\n",
    "### Example of Builder in Python\n",
    "Let's consider an example of building a computer, where the computer can have different configurations. We will use the Builder pattern to create different types of computers step by step.\n",
    "\n",
    "First, we define the Product:"
   ]
  },
  {
   "cell_type": "code",
   "execution_count": 1,
   "metadata": {},
   "outputs": [],
   "source": [
    "# Product: Computer\n",
    "class Computer:\n",
    "    def __init__(self):\n",
    "        self.cpu = None\n",
    "        self.memory = None\n",
    "        self.storage = None\n",
    "\n",
    "    def __str__(self):\n",
    "        return f\"Computer with CPU: {self.cpu}, Memory: {self.memory}, Storage: {self.storage}\""
   ]
  },
  {
   "cell_type": "markdown",
   "metadata": {},
   "source": [
    "Next, we create the abstract interface for the Builder:"
   ]
  },
  {
   "cell_type": "code",
   "execution_count": 2,
   "metadata": {},
   "outputs": [],
   "source": [
    "# Builder: ComputerBuilder\n",
    "class ComputerBuilder:\n",
    "    def set_cpu(self):\n",
    "        pass\n",
    "\n",
    "    def set_memory(self):\n",
    "        pass\n",
    "\n",
    "    def set_storage(self):\n",
    "        pass\n",
    "\n",
    "    def get_computer(self):\n",
    "        pass"
   ]
  },
  {
   "cell_type": "markdown",
   "metadata": {},
   "source": [
    "Now, we implement the ConcreteBuilder for different types of computers:"
   ]
  },
  {
   "cell_type": "code",
   "execution_count": 3,
   "metadata": {},
   "outputs": [],
   "source": [
    "# Concrete Builder: HomeComputerBuilder\n",
    "class HomeComputerBuilder(ComputerBuilder):\n",
    "    def __init__(self):\n",
    "        self.computer = Computer()\n",
    "\n",
    "    def set_cpu(self):\n",
    "        self.computer.cpu = \"i5\"\n",
    "\n",
    "    def set_memory(self):\n",
    "        self.computer.memory = \"8GB\"\n",
    "\n",
    "    def set_storage(self):\n",
    "        self.computer.storage = \"256GB SSD\"\n",
    "\n",
    "    def get_computer(self):\n",
    "        return self.computer\n",
    "\n",
    "# Concrete Builder: GamingComputerBuilder\n",
    "class GamingComputerBuilder(ComputerBuilder):\n",
    "    def __init__(self):\n",
    "        self.computer = Computer()\n",
    "\n",
    "    def set_cpu(self):\n",
    "        self.computer.cpu = \"i7\"\n",
    "\n",
    "    def set_memory(self):\n",
    "        self.computer.memory = \"16GB\"\n",
    "\n",
    "    def set_storage(self):\n",
    "        self.computer.storage = \"1TB NVMe SSD\"\n",
    "\n",
    "    def get_computer(self):\n",
    "        return self.computer"
   ]
  },
  {
   "cell_type": "markdown",
   "metadata": {},
   "source": [
    "Next, we create the Director to guide the construction process:"
   ]
  },
  {
   "cell_type": "code",
   "execution_count": 4,
   "metadata": {},
   "outputs": [],
   "source": [
    "# Director: ComputerDirector\n",
    "class ComputerDirector:\n",
    "    def __init__(self, builder):\n",
    "        self.builder = builder\n",
    "\n",
    "    def construct_computer(self):\n",
    "        self.builder.set_cpu()\n",
    "        self.builder.set_memory()\n",
    "        self.builder.set_storage()\n",
    "\n",
    "    def get_computer(self):\n",
    "        return self.builder.get_computer()"
   ]
  },
  {
   "cell_type": "markdown",
   "metadata": {},
   "source": [
    "Finally, the client code can create different types of computers using the Director:"
   ]
  },
  {
   "cell_type": "code",
   "execution_count": 5,
   "metadata": {},
   "outputs": [
    {
     "name": "stdout",
     "output_type": "stream",
     "text": [
      "Home Computer Config: Computer with CPU: i5, Memory: 8GB, Storage: 256GB SSD\n",
      "Gaming Computer Config: Computer with CPU: i7, Memory: 16GB, Storage: 1TB NVMe SSD\n"
     ]
    }
   ],
   "source": [
    "# Client Code\n",
    "if __name__ == \"__main__\":\n",
    "    home_builder = HomeComputerBuilder()\n",
    "    gaming_builder = GamingComputerBuilder()\n",
    "\n",
    "    home_director = ComputerDirector(home_builder)\n",
    "    home_director.construct_computer()\n",
    "    home_computer = home_director.get_computer()\n",
    "    print(\"Home Computer Config:\", home_computer)\n",
    "\n",
    "    gaming_director = ComputerDirector(gaming_builder)\n",
    "    gaming_director.construct_computer()\n",
    "    gaming_computer = gaming_director.get_computer()\n",
    "    print(\"Gaming Computer Config:\", gaming_computer)"
   ]
  },
  {
   "cell_type": "markdown",
   "metadata": {},
   "source": [
    "In this example, we have created a Builder pattern to construct different configurations of a computer: HomeComputer and GamingComputer. The client code can use the Director with the appropriate ConcreteBuilder to build the desired type of computer without being concerned about the construction steps. This demonstrates how the Builder Design Pattern allows flexible and step-by-step construction of complex objects, providing different representations of the product."
   ]
  }
 ],
 "metadata": {
  "kernelspec": {
   "display_name": "Python 3",
   "language": "python",
   "name": "python3"
  },
  "language_info": {
   "codemirror_mode": {
    "name": "ipython",
    "version": 3
   },
   "file_extension": ".py",
   "mimetype": "text/x-python",
   "name": "python",
   "nbconvert_exporter": "python",
   "pygments_lexer": "ipython3",
   "version": "3.9.14"
  },
  "orig_nbformat": 4
 },
 "nbformat": 4,
 "nbformat_minor": 2
}
