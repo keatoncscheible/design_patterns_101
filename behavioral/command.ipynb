{
 "cells": [
  {
   "attachments": {},
   "cell_type": "markdown",
   "metadata": {},
   "source": [
    "# Command Design Pattern\n",
    "\n",
    "#### Also Known As: *Action*, *Transaction*\n",
    "\n",
    "The **Command Design Pattern** is a behavioral design pattern that turns a request into a standalone object, allowing clients to parameterize objects with different requests. It decouples the sender of the request from the receiver, enabling flexibility and extensibility in the system. The pattern encapsulates a request as an object, allowing clients to queue, log, or undo requests.\n",
    "\n",
    "### Intent\n",
    "\n",
    "The intent of the Command Design Pattern is to encapsulate a request as an object, thereby allowing clients to parameterize other objects with different requests. It promotes the decoupling of the sender and receiver of a request, enabling more flexibility in handling requests and supporting operations like undo and redo. The pattern turns a request into an object, allowing for queuing, logging, and transactional support.\n",
    "\n",
    "### Structure\n",
    "\n",
    "The main components of the Command Design Pattern are:\n",
    "\n",
    "1. **Command**: This is the interface or abstract class representing the command. It declares an execute() method that encapsulates the specific action to be performed on the receiver.\n",
    "2. **ConcreteCommand**: The ConcreteCommand class implements the Command interface and encapsulates the binding between a specific action and the receiver object.\n",
    "3. **Receiver**: The Receiver class knows how to perform the requested action. It contains the business logic to carry out the command's operation.\n",
    "4. **Invoker**: The Invoker class requests the command to be executed by the appropriate receiver. It holds the Command object and can perform various operations like undo or redo.\n",
    "5. **Client**: The Client creates the command objects, sets their receivers, and associates them with the invoker.\n",
    "\n",
    "### Example of Command in Python\n",
    "\n",
    "Let's consider an example where we have a simple text editor that supports basic editing operations like cut, copy, paste, and undo. We'll use the Command pattern to encapsulate these operations as command objects, allowing the editor to perform different actions based on user input.\n",
    "\n",
    "First, we define the Command interface:"
   ]
  },
  {
   "cell_type": "code",
   "execution_count": 1,
   "metadata": {},
   "outputs": [],
   "source": [
    "# Command: Command\n",
    "from abc import ABC, abstractmethod\n",
    "\n",
    "class Command(ABC):\n",
    "    @abstractmethod\n",
    "    def execute(self):\n",
    "        pass\n",
    "\n",
    "    @abstractmethod\n",
    "    def undo(self):\n",
    "        pass"
   ]
  },
  {
   "cell_type": "markdown",
   "metadata": {},
   "source": [
    "Next, we create the ConcreteCommand classes for each editing operation:"
   ]
  },
  {
   "cell_type": "code",
   "execution_count": 2,
   "metadata": {},
   "outputs": [],
   "source": [
    "# ConcreteCommand: CutCommand\n",
    "class CutCommand(Command):\n",
    "    def __init__(self, editor):\n",
    "        self._editor = editor\n",
    "        self._backup = None\n",
    "\n",
    "    def execute(self):\n",
    "        self._backup = self._editor.get_selection()\n",
    "        self._editor.cut()\n",
    "\n",
    "    def undo(self):\n",
    "        self._editor.restore(self._backup)"
   ]
  },
  {
   "cell_type": "code",
   "execution_count": 3,
   "metadata": {},
   "outputs": [],
   "source": [
    "# ConcreteCommand: CopyCommand\n",
    "class CopyCommand(Command):\n",
    "    def __init__(self, editor):\n",
    "        self._editor = editor\n",
    "\n",
    "    def execute(self):\n",
    "        self._editor.copy()\n",
    "\n",
    "    def undo(self):\n",
    "        pass  # Copy operation does not need to be undone"
   ]
  },
  {
   "cell_type": "code",
   "execution_count": 4,
   "metadata": {},
   "outputs": [],
   "source": [
    "# ConcreteCommand: PasteCommand\n",
    "class PasteCommand(Command):\n",
    "    def __init__(self, editor):\n",
    "        self._editor = editor\n",
    "        self._backup = None\n",
    "\n",
    "    def execute(self):\n",
    "        self._backup = self._editor.get_selection()\n",
    "        self._editor.paste()\n",
    "\n",
    "    def undo(self):\n",
    "        self._editor.restore(self._backup)\n"
   ]
  },
  {
   "cell_type": "markdown",
   "metadata": {},
   "source": [
    "Now, we create the Receiver class representing the text editor:"
   ]
  },
  {
   "cell_type": "code",
   "execution_count": 5,
   "metadata": {},
   "outputs": [],
   "source": [
    "# Receiver: TextEditor\n",
    "class TextEditor:\n",
    "    def __init__(self):\n",
    "        self._content = \"\"\n",
    "\n",
    "    def get_selection(self):\n",
    "        return self._content\n",
    "\n",
    "    def cut(self):\n",
    "        self._content = \"\"\n",
    "\n",
    "    def copy(self):\n",
    "        pass  # Copy operation is not destructive\n",
    "\n",
    "    def paste(self):\n",
    "        self._content = \"Pasted text\"\n",
    "\n",
    "    def restore(self, text):\n",
    "        self._content = text"
   ]
  },
  {
   "cell_type": "markdown",
   "metadata": {},
   "source": [
    "Finally, we create the Invoker class to perform the operations:"
   ]
  },
  {
   "cell_type": "code",
   "execution_count": 6,
   "metadata": {},
   "outputs": [],
   "source": [
    "# Invoker: EditorInvoker\n",
    "class EditorInvoker:\n",
    "    def __init__(self):\n",
    "        self._commands = []\n",
    "\n",
    "    def execute(self, command):\n",
    "        self._commands.append(command)\n",
    "        command.execute()\n",
    "\n",
    "    def undo(self):\n",
    "        if self._commands:\n",
    "            command = self._commands.pop()\n",
    "            command.undo()"
   ]
  },
  {
   "cell_type": "markdown",
   "metadata": {},
   "source": [
    "Now, the client code can use the Command pattern to perform various operations on the text editor:"
   ]
  },
  {
   "cell_type": "code",
   "execution_count": 7,
   "metadata": {},
   "outputs": [],
   "source": [
    "# Client Code\n",
    "if __name__ == \"__main__\":\n",
    "    editor = TextEditor()\n",
    "    invoker = EditorInvoker()\n",
    "\n",
    "    cut_command = CutCommand(editor)\n",
    "    copy_command = CopyCommand(editor)\n",
    "    paste_command = PasteCommand(editor)\n",
    "\n",
    "    invoker.execute(cut_command)  # Cut the selected text\n",
    "    invoker.execute(copy_command)  # Copy the selected text\n",
    "    invoker.undo()  # Undo the copy operation\n",
    "    invoker.execute(paste_command)  # Paste the text\n",
    "    invoker.undo()  # Undo the paste operation"
   ]
  },
  {
   "cell_type": "markdown",
   "metadata": {},
   "source": [
    "In this example, the Command Design Pattern allows us to encapsulate the text editor's operations as command objects. The client code interacts with the editor using the Invoker, which holds the command objects and executes them as needed. The Command pattern promotes the decoupling of the sender (client code) and the receiver (text editor), enabling more flexibility in handling various editing operations. It also allows for undoing operations by implementing the `undo()` method in the command objects, providing a way to reverse the effects of a command. The Command pattern provides a structured and flexible way of implementing various actions and interactions in a system."
   ]
  }
 ],
 "metadata": {
  "kernelspec": {
   "display_name": "Python 3",
   "language": "python",
   "name": "python3"
  },
  "language_info": {
   "codemirror_mode": {
    "name": "ipython",
    "version": 3
   },
   "file_extension": ".py",
   "mimetype": "text/x-python",
   "name": "python",
   "nbconvert_exporter": "python",
   "pygments_lexer": "ipython3",
   "version": "3.9.14"
  },
  "orig_nbformat": 4
 },
 "nbformat": 4,
 "nbformat_minor": 2
}
