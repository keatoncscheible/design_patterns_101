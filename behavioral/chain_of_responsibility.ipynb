{
 "cells": [
  {
   "attachments": {},
   "cell_type": "markdown",
   "metadata": {},
   "source": [
    "# Chain of Responsibility Design Pattern\n",
    "\n",
    "The **Chain of Responsibility Design Pattern** is a behavioral design pattern that allows multiple objects to handle a request without specifying the exact handler explicitly. The pattern forms a chain of objects, and each object in the chain has the ability to handle the request or pass it to the next object in the chain. This pattern is useful when there are multiple potential handlers for a request, and the exact handler is determined at runtime.\n",
    "\n",
    "### Intent\n",
    "\n",
    "The intent of the Chain of Responsibility Design Pattern is to decouple the sender of a request from its receiver, allowing multiple handlers to have a chance to process the request. It avoids coupling the client code to specific handlers, promoting flexibility and extensibility in the system. The pattern promotes the principle of \"Avoid coupling the sender of a request to its receiver by giving more than one object a chance to handle the request.\"\n",
    "\n",
    "### Structure\n",
    "\n",
    "The main components of the Chain of Responsibility Design Pattern are:\n",
    "\n",
    "1. **Handler**: This is the interface or abstract class representing the handlers in the chain. It declares a method to handle the request and can hold a reference to the next handler in the chain.\n",
    "2. **ConcreteHandler**: The ConcreteHandler classes are the actual handlers that implement the Handler interface. Each ConcreteHandler decides whether to handle the request or pass it to the next handler in the chain.\n",
    "\n",
    "### Example of Chain of Responsibility in Python\n",
    "\n",
    "Let's consider an example where we want to process purchase requests in a company. Each request has an amount, and we want to have different levels of approval for different amounts. We'll use the Chain of Responsibility pattern to create a chain of approvers, each responsible for approving requests within a specific range.\n",
    "\n",
    "First, we define the Handler interface:"
   ]
  },
  {
   "cell_type": "code",
   "execution_count": 1,
   "metadata": {},
   "outputs": [],
   "source": [
    "# Handler: Approver\n",
    "from abc import ABC, abstractmethod\n",
    "\n",
    "class Approver(ABC):\n",
    "    @abstractmethod\n",
    "    def set_next(self, next_approver):\n",
    "        pass\n",
    "\n",
    "    @abstractmethod\n",
    "    def process_request(self, amount):\n",
    "        pass"
   ]
  },
  {
   "cell_type": "markdown",
   "metadata": {},
   "source": [
    "Next, we create the ConcreteHandler classes representing different approvers:"
   ]
  },
  {
   "cell_type": "code",
   "execution_count": 2,
   "metadata": {},
   "outputs": [],
   "source": [
    "# ConcreteHandler: Manager\n",
    "class Manager(Approver):\n",
    "    def __init__(self):\n",
    "        self._next_approver = None\n",
    "\n",
    "    def set_next(self, next_approver):\n",
    "        self._next_approver = next_approver\n",
    "\n",
    "    def process_request(self, amount):\n",
    "        if amount <= 1000:\n",
    "            print(f\"Manager approves the request for ${amount}\")\n",
    "        elif self._next_approver is not None:\n",
    "            self._next_approver.process_request(amount)\n",
    "        else:\n",
    "            print(\"Request cannot be approved.\")"
   ]
  },
  {
   "cell_type": "code",
   "execution_count": 3,
   "metadata": {},
   "outputs": [],
   "source": [
    "# ConcreteHandler: Director\n",
    "class Director(Approver):\n",
    "    def __init__(self):\n",
    "        self._next_approver = None\n",
    "\n",
    "    def set_next(self, next_approver):\n",
    "        self._next_approver = next_approver\n",
    "\n",
    "    def process_request(self, amount):\n",
    "        if amount <= 5000:\n",
    "            print(f\"Director approves the request for ${amount}\")\n",
    "        elif self._next_approver is not None:\n",
    "            self._next_approver.process_request(amount)\n",
    "        else:\n",
    "            print(\"Request cannot be approved.\")"
   ]
  },
  {
   "cell_type": "code",
   "execution_count": 4,
   "metadata": {},
   "outputs": [],
   "source": [
    "# ConcreteHandler: VicePresident\n",
    "class VicePresident(Approver):\n",
    "    def __init__(self):\n",
    "        self._next_approver = None\n",
    "\n",
    "    def set_next(self, next_approver):\n",
    "        self._next_approver = next_approver\n",
    "\n",
    "    def process_request(self, amount):\n",
    "        if amount <= 10000:\n",
    "            print(f\"Vice President approves the request for ${amount}\")\n",
    "        elif self._next_approver is not None:\n",
    "            self._next_approver.process_request(amount)\n",
    "        else:\n",
    "            print(\"Request cannot be approved.\")"
   ]
  },
  {
   "cell_type": "code",
   "execution_count": 5,
   "metadata": {},
   "outputs": [],
   "source": [
    "# ConcreteHandler: President\n",
    "class President(Approver):\n",
    "    def set_next(self, next_approver):\n",
    "        pass  # President is the final approver, so it doesn't have a next_approver\n",
    "\n",
    "    def process_request(self, amount):\n",
    "        print(f\"President approves the request for ${amount}\")"
   ]
  },
  {
   "cell_type": "markdown",
   "metadata": {},
   "source": [
    "Finally, the client code can use the Chain of Responsibility to process the purchase requests:"
   ]
  },
  {
   "cell_type": "code",
   "execution_count": 6,
   "metadata": {},
   "outputs": [
    {
     "name": "stdout",
     "output_type": "stream",
     "text": [
      "Manager approves the request for $800\n",
      "Director approves the request for $3500\n",
      "Vice President approves the request for $9000\n",
      "President approves the request for $15000\n"
     ]
    }
   ],
   "source": [
    "# Client Code\n",
    "if __name__ == \"__main__\":\n",
    "    manager = Manager()\n",
    "    director = Director()\n",
    "    vp = VicePresident()\n",
    "    president = President()\n",
    "\n",
    "    manager.set_next(director)\n",
    "    director.set_next(vp)\n",
    "    vp.set_next(president)\n",
    "\n",
    "    # Process requests\n",
    "    manager.process_request(800)\n",
    "    manager.process_request(3500)\n",
    "    manager.process_request(9000)\n",
    "    manager.process_request(15000)"
   ]
  },
  {
   "cell_type": "markdown",
   "metadata": {},
   "source": [
    "In this example, the Chain of Responsibility Design Pattern allows us to create a chain of approvers to handle purchase requests. Each ConcreteHandler can approve requests within a specific range, and if it cannot handle the request, it passes it to the next handler in the chain. The client code interacts with the chain of approvers by using the first handler (Manager), and the Chain of Responsibility takes care of routing the request through the chain until it is handled appropriately. This promotes a decoupling between the sender of the request (client code) and its receivers (approvers), enabling flexibility in adding new handlers or modifying the chain at runtime. The Chain of Responsibility pattern allows for a more dynamic and extensible way of handling requests in a system."
   ]
  }
 ],
 "metadata": {
  "kernelspec": {
   "display_name": "Python 3",
   "language": "python",
   "name": "python3"
  },
  "language_info": {
   "codemirror_mode": {
    "name": "ipython",
    "version": 3
   },
   "file_extension": ".py",
   "mimetype": "text/x-python",
   "name": "python",
   "nbconvert_exporter": "python",
   "pygments_lexer": "ipython3",
   "version": "3.9.14"
  },
  "orig_nbformat": 4
 },
 "nbformat": 4,
 "nbformat_minor": 2
}
