{
 "cells": [
  {
   "attachments": {},
   "cell_type": "markdown",
   "metadata": {},
   "source": [
    "# State Design Pattern\n",
    "\n",
    "#### Also Known As: *Objects for States*\n",
    "\n",
    "The **State Design Pattern** is a behavioral design pattern that allows an object to change its behavior when its internal state changes. It enables an object to alter its behavior without changing its class, making it more flexible and scalable. The pattern is useful when an object's behavior depends on its internal state, and the behavior needs to change dynamically at runtime.\n",
    "\n",
    "### Intent\n",
    "\n",
    "The intent of the State Design Pattern is to provide a way for an object to change its behavior based on its internal state. It promotes a cleaner and more maintainable design by encapsulating state-specific behaviors in separate classes. The pattern is suitable when an object can have multiple states, and the behavior transitions between these states need to be managed.\n",
    "\n",
    "### Structure\n",
    "\n",
    "The main components of the State Design Pattern are:\n",
    "\n",
    "1. **Context**: This is the class representing the object whose behavior needs to change based on its internal state. It maintains a reference to the current state object and delegates behavior calls to the state object.\n",
    "2. **State**: The State interface represents the states that the Context can be in. It declares methods for handling state-specific behavior.\n",
    "3. **ConcreteState**: The ConcreteState classes implement the State interface and represent the individual states of the Context. Each ConcreteState class provides its own implementation of the state-specific behavior.\n",
    "\n",
    "### Example of State in Python\n",
    "\n",
    "Let's consider an example where we have a TCP connection that can be in different states: \"Closed,\" \"Established,\" and \"Listening.\" We'll use the State pattern to manage the behavior of the TCP connection based on its internal state.\n",
    "\n",
    "First, we define the State interface:"
   ]
  },
  {
   "cell_type": "code",
   "execution_count": 1,
   "metadata": {},
   "outputs": [],
   "source": [
    "# State: TCPState\n",
    "from abc import ABC, abstractmethod\n",
    "\n",
    "class TCPState(ABC):\n",
    "    def __init__(self, context):\n",
    "        self._context = context\n",
    "\n",
    "    @abstractmethod\n",
    "    def open(self):\n",
    "        pass\n",
    "\n",
    "    @abstractmethod\n",
    "    def close(self):\n",
    "        pass\n",
    "\n",
    "    @abstractmethod\n",
    "    def listen(self):\n",
    "        pass"
   ]
  },
  {
   "cell_type": "markdown",
   "metadata": {},
   "source": [
    "Next, we create the Context representing the TCP connection:"
   ]
  },
  {
   "cell_type": "code",
   "execution_count": 2,
   "metadata": {},
   "outputs": [],
   "source": [
    "# Context: TCPConnection\n",
    "class TCPConnection:\n",
    "    def __init__(self):\n",
    "        self._state = None\n",
    "\n",
    "    def set_state(self, state):\n",
    "        self._state = state\n",
    "\n",
    "    def open(self):\n",
    "        self._state.open()\n",
    "\n",
    "    def close(self):\n",
    "        self._state.close()\n",
    "\n",
    "    def listen(self):\n",
    "        self._state.listen()"
   ]
  },
  {
   "cell_type": "markdown",
   "metadata": {},
   "source": [
    "Now, we define the ConcreteState representing the \"Closed\" state and the \"Established\" state:"
   ]
  },
  {
   "cell_type": "code",
   "execution_count": 3,
   "metadata": {},
   "outputs": [],
   "source": [
    "from __future__ import annotations\n",
    "\n",
    "# ConcreteState: TCPClosed\n",
    "class TCPClosed(TCPState):\n",
    "    def open(self):\n",
    "        print(\"Opening TCP connection.\")\n",
    "        self._context.set_state(TCPEstablished(self._context))\n",
    "\n",
    "    def close(self):\n",
    "        print(\"TCP connection is already closed.\")\n",
    "\n",
    "    def listen(self):\n",
    "        print(\"TCP connection is not open.\")\n",
    "\n",
    "# ConcreteState: TCPEstablished\n",
    "class TCPEstablished(TCPState):\n",
    "    def open(self):\n",
    "        print(\"TCP connection is already open.\")\n",
    "\n",
    "    def close(self):\n",
    "        print(\"Closing TCP connection.\")\n",
    "        self._context.set_state(TCPClosed(self._context))\n",
    "\n",
    "    def listen(self):\n",
    "        print(\"Listening for incoming data.\")"
   ]
  },
  {
   "cell_type": "markdown",
   "metadata": {},
   "source": [
    "Finally, we define the ConcreteState representing the \"Listening\" state:"
   ]
  },
  {
   "cell_type": "code",
   "execution_count": 4,
   "metadata": {},
   "outputs": [],
   "source": [
    "# ConcreteState: TCPListening\n",
    "class TCPListening(TCPState):\n",
    "    def open(self):\n",
    "        print(\"TCP connection is already open.\")\n",
    "\n",
    "    def close(self):\n",
    "        print(\"Closing TCP connection.\")\n",
    "        self._context.set_state(TCPClosed(self._context))\n",
    "\n",
    "    def listen(self):\n",
    "        print(\"TCP connection is already listening.\")"
   ]
  },
  {
   "cell_type": "markdown",
   "metadata": {},
   "source": [
    "Now, the client code can use the State pattern to manage the behavior of the TCP connection:"
   ]
  },
  {
   "cell_type": "code",
   "execution_count": 5,
   "metadata": {},
   "outputs": [
    {
     "name": "stdout",
     "output_type": "stream",
     "text": [
      "Opening TCP connection.\n",
      "Listening for incoming data.\n",
      "Closing TCP connection.\n",
      "TCP connection is already open.\n",
      "Listening for incoming data.\n",
      "Closing TCP connection.\n",
      "TCP connection is already open.\n",
      "TCP connection is already listening.\n",
      "Closing TCP connection.\n"
     ]
    }
   ],
   "source": [
    "# Client Code\n",
    "if __name__ == \"__main__\":\n",
    "    # Create a TCPConnection object\n",
    "    tcp_connection = TCPConnection()\n",
    "\n",
    "    # Transition to the \"Closed\" state\n",
    "    tcp_connection.set_state(TCPClosed(tcp_connection))\n",
    "\n",
    "    tcp_connection.open()    # Output: Opening TCP connection.\n",
    "    tcp_connection.listen()  # Output: TCP connection is not open.\n",
    "    tcp_connection.close()   # Output: TCP connection is already closed.\n",
    "\n",
    "    # Transition to the \"Established\" state\n",
    "    tcp_connection.set_state(TCPEstablished(tcp_connection))\n",
    "\n",
    "    tcp_connection.open()    # Output: TCP connection is already open.\n",
    "    tcp_connection.listen()  # Output: Listening for incoming data.\n",
    "    tcp_connection.close()   # Output: Closing TCP connection.\n",
    "\n",
    "    # Transition to the \"Listening\" state\n",
    "    tcp_connection.set_state(TCPListening(tcp_connection))\n",
    "\n",
    "    tcp_connection.open()    # Output: TCP connection is already open.\n",
    "    tcp_connection.listen()  # Output: TCP connection is already listening.\n",
    "    tcp_connection.close()   # Output: Closing TCP connection.\n"
   ]
  },
  {
   "cell_type": "markdown",
   "metadata": {},
   "source": [
    "In this example, the State Design Pattern allows us to manage the behavior of the TCP connection based on its internal state. The TCPConnection acts as the Context and maintains a reference to the current state object. When the state changes, the TCPConnection delegates behavior calls to the current state object, which provides the state-specific implementation of the behavior. The State pattern promotes a cleaner and more maintainable design by encapsulating state-specific behaviors in separate classes. It provides a flexible and scalable way of managing state transitions and behavior changes in objects."
   ]
  }
 ],
 "metadata": {
  "kernelspec": {
   "display_name": "Python 3",
   "language": "python",
   "name": "python3"
  },
  "language_info": {
   "codemirror_mode": {
    "name": "ipython",
    "version": 3
   },
   "file_extension": ".py",
   "mimetype": "text/x-python",
   "name": "python",
   "nbconvert_exporter": "python",
   "pygments_lexer": "ipython3",
   "version": "3.9.14"
  },
  "orig_nbformat": 4
 },
 "nbformat": 4,
 "nbformat_minor": 2
}
