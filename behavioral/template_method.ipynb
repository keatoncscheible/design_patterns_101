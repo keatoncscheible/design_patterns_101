{
 "cells": [
  {
   "attachments": {},
   "cell_type": "markdown",
   "metadata": {},
   "source": [
    "# Template Method Design Pattern\n",
    "\n",
    "The **Template Method Design Pattern** is a behavioral design pattern that defines the skeleton of an algorithm in a method but allows its subclasses to override certain steps of the algorithm without changing its structure. It provides a framework for creating a family of algorithms with common steps and allows customization of specific steps in individual subclasses. The pattern promotes code reuse, modularity, and consistency in algorithm implementation.\n",
    "\n",
    "### Intent\n",
    "\n",
    "The intent of the Template Method Design Pattern is to define the outline of an algorithm in a method of the base class, allowing subclasses to provide their own implementation for specific steps of the algorithm. The pattern encourages code reuse by placing shared algorithm logic in the base class and allows for variations in behavior by letting subclasses modify specific parts of the algorithm. It is suitable for scenarios where you have a set of algorithms with a similar structure but differing implementations for certain steps.\n",
    "\n",
    "### Structure\n",
    "\n",
    "The main components of the Template Method Design Pattern are:\n",
    "\n",
    "1. **AbstractClass**: This is the base class that defines the template method. The template method is usually a sequence of method calls that represent the overall algorithm. It also includes abstract methods or \"hooks\" that allow subclasses to provide custom implementations for specific steps.\n",
    "2. **ConcreteClass**: The ConcreteClass classes extend the AbstractClass and provide their own implementations for the abstract methods or hooks defined in the base class. These implementations customize the behavior of specific steps in the algorithm.\n",
    "\n",
    "### Example of Template Method in Python\n",
    "\n",
    "Let's consider an example of a report generator that generates different types of reports, such as PDF and CSV reports. We'll use the Template Method pattern to define the overall report generation process in the base class, with subclasses providing custom implementations for formatting and data retrieval.\n",
    "\n",
    "First, we define the AbstractClass representing the report generator:"
   ]
  },
  {
   "cell_type": "code",
   "execution_count": 1,
   "metadata": {},
   "outputs": [],
   "source": [
    "# AbstractClass: ReportGenerator\n",
    "from abc import ABC, abstractmethod\n",
    "\n",
    "class ReportGenerator(ABC):\n",
    "    def generate_report(self):\n",
    "        self._get_data()\n",
    "        self._format_data()\n",
    "        self._generate_output()\n",
    "\n",
    "    @abstractmethod\n",
    "    def _get_data(self):\n",
    "        pass\n",
    "\n",
    "    @abstractmethod\n",
    "    def _format_data(self):\n",
    "        pass\n",
    "\n",
    "    @abstractmethod\n",
    "    def _generate_output(self):\n",
    "        pass"
   ]
  },
  {
   "cell_type": "markdown",
   "metadata": {},
   "source": [
    "Next, we create the ConcreteClass representing the PDF report generator:"
   ]
  },
  {
   "cell_type": "code",
   "execution_count": 2,
   "metadata": {},
   "outputs": [],
   "source": [
    "# ConcreteClass: PDFReportGenerator\n",
    "class PDFReportGenerator(ReportGenerator):\n",
    "    def _get_data(self):\n",
    "        print(\"Getting data for PDF report\")\n",
    "\n",
    "    def _format_data(self):\n",
    "        print(\"Formatting data for PDF report\")\n",
    "\n",
    "    def _generate_output(self):\n",
    "        print(\"Generating PDF report\")"
   ]
  },
  {
   "cell_type": "markdown",
   "metadata": {},
   "source": [
    "Now, we define the ConcreteClass representing the CSV report generator:"
   ]
  },
  {
   "cell_type": "code",
   "execution_count": 3,
   "metadata": {},
   "outputs": [],
   "source": [
    "# ConcreteClass: CSVReportGenerator\n",
    "class CSVReportGenerator(ReportGenerator):\n",
    "    def _get_data(self):\n",
    "        print(\"Getting data for CSV report\")\n",
    "\n",
    "    def _format_data(self):\n",
    "        print(\"Formatting data for CSV report\")\n",
    "\n",
    "    def _generate_output(self):\n",
    "        print(\"Generating CSV report\")"
   ]
  },
  {
   "cell_type": "markdown",
   "metadata": {},
   "source": [
    "Now, the client code can use the Template Method pattern to generate different types of reports:"
   ]
  },
  {
   "cell_type": "code",
   "execution_count": 4,
   "metadata": {},
   "outputs": [
    {
     "name": "stdout",
     "output_type": "stream",
     "text": [
      "Getting data for PDF report\n",
      "Formatting data for PDF report\n",
      "Generating PDF report\n",
      "Getting data for CSV report\n",
      "Formatting data for CSV report\n",
      "Generating CSV report\n"
     ]
    }
   ],
   "source": [
    "# Client Code\n",
    "if __name__ == \"__main__\":\n",
    "    pdf_report_generator = PDFReportGenerator()\n",
    "    csv_report_generator = CSVReportGenerator()\n",
    "\n",
    "    pdf_report_generator.generate_report()\n",
    "    csv_report_generator.generate_report()"
   ]
  },
  {
   "cell_type": "markdown",
   "metadata": {},
   "source": [
    "In this example, the Template Method Design Pattern allows us to define the overall report generation process in the base class (`ReportGenerator`) and let the subclasses (`PDFReportGenerator` and `CSVReportGenerator`) provide their own implementations for specific steps. The `generate_report` method serves as the template method that represents the overall report generation algorithm. The abstract methods `_get_data`, `_format_data`, and `_generate_output` act as hooks that subclasses override to customize the behavior for their specific report types. The Template Method pattern promotes code reuse, modularity, and consistency in report generation algorithms, making it easy to add new report types in the future without changing the base class."
   ]
  }
 ],
 "metadata": {
  "kernelspec": {
   "display_name": "Python 3",
   "language": "python",
   "name": "python3"
  },
  "language_info": {
   "codemirror_mode": {
    "name": "ipython",
    "version": 3
   },
   "file_extension": ".py",
   "mimetype": "text/x-python",
   "name": "python",
   "nbconvert_exporter": "python",
   "pygments_lexer": "ipython3",
   "version": "3.9.14"
  },
  "orig_nbformat": 4
 },
 "nbformat": 4,
 "nbformat_minor": 2
}
