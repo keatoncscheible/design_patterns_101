{
 "cells": [
  {
   "attachments": {},
   "cell_type": "markdown",
   "metadata": {},
   "source": [
    "# Strategy Design Pattern\n",
    "\n",
    "#### Also Known As: *Policy*\n",
    "\n",
    "The **Strategy Design Pattern** is a behavioral design pattern that allows you to define a family of algorithms, encapsulate each one as a separate class, and make them interchangeable. This pattern enables you to choose and switch algorithms at runtime without modifying the client code. It promotes flexibility, extensibility, and reduces code duplication by abstracting the algorithms into separate classes.\n",
    "\n",
    "### Intent\n",
    "\n",
    "The intent of the Strategy Design Pattern is to define a set of algorithms, encapsulate each algorithm in a separate class, and make these algorithms interchangeable. The pattern promotes a clear separation between the client code and the algorithms, allowing clients to choose and switch between different strategies at runtime. It is suitable for scenarios where you need to support multiple algorithms or variations of a behavior.\n",
    "\n",
    "### Structure\n",
    "\n",
    "The main components of the Strategy Design Pattern are:\n",
    "\n",
    "1. **Context**: This is the class that uses the strategy and maintains a reference to the chosen strategy object. The context delegates the execution of the algorithm to the strategy object.\n",
    "2. **Strategy**: The Strategy interface represents the family of algorithms. It declares a common method that the context uses to execute the algorithm.\n",
    "3. **ConcreteStrategy**: The ConcreteStrategy classes implement the Strategy interface and represent the individual algorithms. Each ConcreteStrategy class provides its own implementation of the algorithm.\n",
    "\n",
    "### Example of Strategy in Python\n",
    "\n",
    "Let's consider an example where we have a payment processing system that supports different payment methods, such as credit card and PayPal. We'll use the Strategy pattern to implement each payment method as a separate strategy and allow the user to switch between them at runtime.\n",
    "\n",
    "First, we define the Strategy interface:"
   ]
  },
  {
   "cell_type": "code",
   "execution_count": 1,
   "metadata": {},
   "outputs": [],
   "source": [
    "# Strategy: PaymentStrategy\n",
    "from abc import ABC, abstractmethod\n",
    "\n",
    "class PaymentStrategy(ABC):\n",
    "    @abstractmethod\n",
    "    def pay(self, amount):\n",
    "        pass"
   ]
  },
  {
   "cell_type": "markdown",
   "metadata": {},
   "source": [
    "Next, we create the Context representing the payment processor:"
   ]
  },
  {
   "cell_type": "code",
   "execution_count": 2,
   "metadata": {},
   "outputs": [],
   "source": [
    "# Context: PaymentProcessor\n",
    "class PaymentProcessor:\n",
    "    def __init__(self, payment_strategy):\n",
    "        self._payment_strategy = payment_strategy\n",
    "\n",
    "    def set_payment_strategy(self, payment_strategy):\n",
    "        self._payment_strategy = payment_strategy\n",
    "\n",
    "    def process_payment(self, amount):\n",
    "        self._payment_strategy.pay(amount)"
   ]
  },
  {
   "cell_type": "markdown",
   "metadata": {},
   "source": [
    "Now, we define the ConcreteStrategy representing the credit card payment:"
   ]
  },
  {
   "cell_type": "code",
   "execution_count": 3,
   "metadata": {},
   "outputs": [],
   "source": [
    "# ConcreteStrategy: CreditCardPayment\n",
    "class CreditCardPayment(PaymentStrategy):\n",
    "    def __init__(self, card_number, expiration_date):\n",
    "        self._card_number = card_number\n",
    "        self._expiration_date = expiration_date\n",
    "\n",
    "    def pay(self, amount):\n",
    "        print(f\"Processing credit card payment of ${amount} using card number {self._card_number}\")"
   ]
  },
  {
   "cell_type": "markdown",
   "metadata": {},
   "source": [
    "Finally, we create the ConcreteStrategy representing the PayPal payment:"
   ]
  },
  {
   "cell_type": "code",
   "execution_count": 4,
   "metadata": {},
   "outputs": [],
   "source": [
    "# ConcreteStrategy: PayPalPayment\n",
    "class PayPalPayment(PaymentStrategy):\n",
    "    def __init__(self, email):\n",
    "        self._email = email\n",
    "\n",
    "    def pay(self, amount):\n",
    "        print(f\"Processing PayPal payment of ${amount} using email {self._email}\")\n"
   ]
  },
  {
   "cell_type": "markdown",
   "metadata": {},
   "source": [
    "Now, the client code can use the Strategy pattern to switch between payment methods at runtime:"
   ]
  },
  {
   "cell_type": "code",
   "execution_count": 5,
   "metadata": {},
   "outputs": [
    {
     "name": "stdout",
     "output_type": "stream",
     "text": [
      "Processing credit card payment of $100 using card number 1234-5678-9012-3456\n",
      "Processing PayPal payment of $50 using email user@example.com\n"
     ]
    }
   ],
   "source": [
    "# Client Code\n",
    "if __name__ == \"__main__\":\n",
    "    # Create payment processor with a default payment strategy (Credit Card)\n",
    "    payment_processor = PaymentProcessor(CreditCardPayment(\"1234-5678-9012-3456\", \"12/2024\"))\n",
    "\n",
    "    # Process payments using the current strategy\n",
    "    payment_processor.process_payment(100)   # Output: Processing credit card payment of $100 using card number 1234-5678-9012-3456\n",
    "\n",
    "    # Switch to PayPal payment strategy\n",
    "    payment_processor.set_payment_strategy(PayPalPayment(\"user@example.com\"))\n",
    "\n",
    "    # Process payments using the new strategy\n",
    "    payment_processor.process_payment(50)    # Output: Processing PayPal payment of $50 using email user@example.com"
   ]
  },
  {
   "cell_type": "markdown",
   "metadata": {},
   "source": [
    "In this example, the Strategy Design Pattern allows us to define different payment methods as separate strategies and switch between them at runtime. The PaymentProcessor acts as the Context and maintains a reference to the chosen payment strategy. When the client requests a payment, the PaymentProcessor delegates the payment processing to the current strategy, allowing for dynamic and interchangeable payment methods. The Strategy pattern promotes flexibility and extensibility, making it easy to add new payment methods without modifying the existing client code."
   ]
  }
 ],
 "metadata": {
  "kernelspec": {
   "display_name": "Python 3",
   "language": "python",
   "name": "python3"
  },
  "language_info": {
   "codemirror_mode": {
    "name": "ipython",
    "version": 3
   },
   "file_extension": ".py",
   "mimetype": "text/x-python",
   "name": "python",
   "nbconvert_exporter": "python",
   "pygments_lexer": "ipython3",
   "version": "3.9.14"
  },
  "orig_nbformat": 4
 },
 "nbformat": 4,
 "nbformat_minor": 2
}
