{
 "cells": [
  {
   "attachments": {},
   "cell_type": "markdown",
   "metadata": {},
   "source": [
    "# Visitor Design Pattern\n",
    "\n",
    "The **Visitor Design Pattern** is a behavioral design pattern that allows you to add new operations or behaviors to a set of related classes without modifying their structure. It separates the algorithms from the object structure on which they operate, promoting extensibility and reducing code coupling. The pattern enables you to define new operations by creating new Visitor classes, making it easy to add new behaviors without changing the existing classes.\n",
    "\n",
    "### Intent\n",
    "\n",
    "The intent of the Visitor Design Pattern is to define a new operation or behavior to a set of classes without modifying their implementation. It achieves this by decoupling the operations from the classes and placing them in separate Visitor classes. This pattern is suitable when you have a stable set of classes but need to add new operations or behaviors frequently, or when you want to keep related behaviors together in a single Visitor class.\n",
    "\n",
    "### Structure\n",
    "\n",
    "The main components of the Visitor Design Pattern are:\n",
    "\n",
    "1. **Visitor**: The Visitor interface declares the visit methods for each class in the object structure. Each visit method corresponds to a specific operation or behavior that the Visitor performs on the element.\n",
    "2. **ConcreteVisitor**: The ConcreteVisitor classes implement the Visitor interface and provide the actual implementation of the visit methods for each class in the object structure.\n",
    "3. **Element**: The Element interface declares an accept method that accepts a Visitor. Each class in the object structure must implement this method to allow the Visitor to access it.\n",
    "4. **ConcreteElement**: The ConcreteElement classes implement the Element interface and provide the accept method's implementation. They allow the Visitor to access their specific behavior.\n",
    "5. **ObjectStructure**: The ObjectStructure class represents the collection of ConcreteElement objects. It provides a method to accept a Visitor, allowing the Visitor to visit each element in the collection.\n",
    "\n",
    "### Example of Visitor in Python\n",
    "\n",
    "Let's consider an example of a zoo, where we have different types of animals, such as lions and elephants. We want to perform various operations on these animals, such as feeding and playing. We'll use the Visitor pattern to define these operations as separate Visitor classes and apply them to the zoo's animals.\n",
    "\n",
    "First, we define the Visitor interface:"
   ]
  },
  {
   "cell_type": "code",
   "execution_count": 1,
   "metadata": {},
   "outputs": [],
   "source": [
    "# Visitor: AnimalVisitor\n",
    "from abc import ABC, abstractmethod\n",
    "\n",
    "class AnimalVisitor(ABC):\n",
    "    @abstractmethod\n",
    "    def visit_lion(self, lion):\n",
    "        pass\n",
    "\n",
    "    @abstractmethod\n",
    "    def visit_elephant(self, elephant):\n",
    "        pass"
   ]
  },
  {
   "cell_type": "markdown",
   "metadata": {},
   "source": [
    "Next, we create the ConcreteVisitor representing the FeedingVisitor:"
   ]
  },
  {
   "cell_type": "code",
   "execution_count": 2,
   "metadata": {},
   "outputs": [],
   "source": [
    "# ConcreteVisitor: FeedingVisitor\n",
    "class FeedingVisitor(AnimalVisitor):\n",
    "    def visit_lion(self, lion):\n",
    "        print(f\"Feeding lion named {lion.name}\")\n",
    "\n",
    "    def visit_elephant(self, elephant):\n",
    "        print(f\"Feeding elephant named {elephant.name}\")"
   ]
  },
  {
   "cell_type": "markdown",
   "metadata": {},
   "source": [
    "Now, we define the Element interface:"
   ]
  },
  {
   "cell_type": "code",
   "execution_count": 3,
   "metadata": {},
   "outputs": [],
   "source": [
    "# Element: Animal\n",
    "class Animal(ABC):\n",
    "    @abstractmethod\n",
    "    def accept(self, visitor):\n",
    "        pass"
   ]
  },
  {
   "cell_type": "markdown",
   "metadata": {},
   "source": [
    "Next, we create the ConcreteElement representing the Lion:"
   ]
  },
  {
   "cell_type": "code",
   "execution_count": 4,
   "metadata": {},
   "outputs": [],
   "source": [
    "# ConcreteElement: Lion\n",
    "class Lion(Animal):\n",
    "    def __init__(self, name):\n",
    "        self.name = name\n",
    "\n",
    "    def accept(self, visitor):\n",
    "        visitor.visit_lion(self)"
   ]
  },
  {
   "cell_type": "markdown",
   "metadata": {},
   "source": [
    "Now, we define the ConcreteElement representing the Elephant:"
   ]
  },
  {
   "cell_type": "code",
   "execution_count": 5,
   "metadata": {},
   "outputs": [],
   "source": [
    "# ConcreteElement: Elephant\n",
    "class Elephant(Animal):\n",
    "    def __init__(self, name):\n",
    "        self.name = name\n",
    "\n",
    "    def accept(self, visitor):\n",
    "        visitor.visit_elephant(self)"
   ]
  },
  {
   "cell_type": "markdown",
   "metadata": {},
   "source": [
    "Finally, we create the ObjectStructure representing the zoo:"
   ]
  },
  {
   "cell_type": "code",
   "execution_count": 6,
   "metadata": {},
   "outputs": [],
   "source": [
    "# ObjectStructure: Zoo\n",
    "class Zoo:\n",
    "    def __init__(self):\n",
    "        self.animals = []\n",
    "\n",
    "    def add_animal(self, animal):\n",
    "        self.animals.append(animal)\n",
    "\n",
    "    def accept(self, visitor):\n",
    "        for animal in self.animals:\n",
    "            animal.accept(visitor)"
   ]
  },
  {
   "cell_type": "markdown",
   "metadata": {},
   "source": [
    "Now, the client code can use the Visitor pattern to perform different operations on the animals in the zoo:"
   ]
  },
  {
   "cell_type": "code",
   "execution_count": 7,
   "metadata": {},
   "outputs": [
    {
     "name": "stdout",
     "output_type": "stream",
     "text": [
      "Feeding lion named Simba\n",
      "Feeding elephant named Dumbo\n"
     ]
    }
   ],
   "source": [
    "# Client Code\n",
    "if __name__ == \"__main__\":\n",
    "    zoo = Zoo()\n",
    "    zoo.add_animal(Lion(\"Simba\"))\n",
    "    zoo.add_animal(Elephant(\"Dumbo\"))\n",
    "\n",
    "    feeding_visitor = FeedingVisitor()\n",
    "    zoo.accept(feeding_visitor)"
   ]
  },
  {
   "cell_type": "markdown",
   "metadata": {},
   "source": [
    "In this example, the Visitor Design Pattern allows us to add new operations (in this case, feeding animals) to a set of related classes (Lion and Elephant) without modifying their implementation. The FeedingVisitor acts as the Visitor, which provides the implementation of the feeding operation for each animal. The Lion and Elephant classes act as the ConcreteElements, implementing the accept method to allow the Visitor to access their specific behavior. The Zoo class serves as the ObjectStructure, containing a collection of animals and accepting the Visitor to apply the feeding operation to each animal. The Visitor pattern promotes extensibility, allowing new operations (e.g., playing or cleaning) to be easily added without changing the existing animal classes."
   ]
  }
 ],
 "metadata": {
  "kernelspec": {
   "display_name": "Python 3",
   "language": "python",
   "name": "python3"
  },
  "language_info": {
   "codemirror_mode": {
    "name": "ipython",
    "version": 3
   },
   "file_extension": ".py",
   "mimetype": "text/x-python",
   "name": "python",
   "nbconvert_exporter": "python",
   "pygments_lexer": "ipython3",
   "version": "3.9.14"
  },
  "orig_nbformat": 4
 },
 "nbformat": 4,
 "nbformat_minor": 2
}
