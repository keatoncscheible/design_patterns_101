{
 "cells": [
  {
   "attachments": {},
   "cell_type": "markdown",
   "metadata": {},
   "source": [
    "# Mediator Design Pattern\n",
    "\n",
    "The **Mediator Design Pattern** is a behavioral design pattern that centralizes the communication between objects in a system. It promotes loose coupling among objects by introducing a mediator object that handles the interactions between them. Instead of objects directly communicating with each other, they communicate through the mediator, reducing the dependencies and making the system easier to maintain and extend.\n",
    "\n",
    "### Intent\n",
    "\n",
    "The intent of the Mediator Design Pattern is to reduce the direct dependencies between objects and promote a more structured communication channel. It allows objects to interact in a decoupled manner by providing a central mediator that handles their communications. The pattern is especially useful in scenarios where the interactions between objects become complex and lead to tight coupling.\n",
    "\n",
    "### Structure\n",
    "\n",
    "The main components of the Mediator Design Pattern are:\n",
    "\n",
    "1. **Mediator**: This is the interface or abstract class representing the mediator. It declares methods for objects to register themselves, send messages, and receive messages.\n",
    "2. **ConcreteMediator**: The ConcreteMediator class implements the Mediator interface and manages the interactions between objects. It maintains references to the objects it mediates and implements the message passing logic.\n",
    "3. **Colleague**: The Colleague class represents the individual objects that need to communicate with each other. It holds a reference to the mediator and uses it to communicate with other colleagues.\n",
    "4. **ConcreteColleague**: The ConcreteColleague classes implement the Colleague interface and represent the individual objects in the system. They use the mediator to send and receive messages to and from other colleagues.\n",
    "\n",
    "### Example of Mediator in Python\n",
    "\n",
    "Let's consider an example where we have a chatroom application where users can send messages to each other. We'll use the Mediator pattern to create a Chatroom that handles the communication between the users.\n",
    "\n",
    "First, we define the Mediator interface:"
   ]
  },
  {
   "cell_type": "code",
   "execution_count": 1,
   "metadata": {},
   "outputs": [],
   "source": [
    "# Mediator: Chatroom\n",
    "from abc import ABC, abstractmethod\n",
    "\n",
    "class Chatroom(ABC):\n",
    "    @abstractmethod\n",
    "    def register(self, user):\n",
    "        pass\n",
    "\n",
    "    @abstractmethod\n",
    "    def send_message(self, from_user, to_user, message):\n",
    "        pass"
   ]
  },
  {
   "cell_type": "markdown",
   "metadata": {},
   "source": [
    "Next, we create the ConcreteMediator representing the Chatroom:"
   ]
  },
  {
   "cell_type": "code",
   "execution_count": 2,
   "metadata": {},
   "outputs": [],
   "source": [
    "# ConcreteMediator: ConcreteChatroom\n",
    "class ConcreteChatroom(Chatroom):\n",
    "    def __init__(self):\n",
    "        self._users = {}\n",
    "\n",
    "    def register(self, user):\n",
    "        self._users[user.name] = user\n",
    "\n",
    "    def send_message(self, from_user, to_user, message):\n",
    "        user = self._users.get(to_user)\n",
    "        if user:\n",
    "            user.receive_message(from_user, message)\n",
    "        else:\n",
    "            print(f\"{to_user} is not online.\")"
   ]
  },
  {
   "cell_type": "markdown",
   "metadata": {},
   "source": [
    "Now, we define the Colleague interface representing the users:"
   ]
  },
  {
   "cell_type": "code",
   "execution_count": 3,
   "metadata": {},
   "outputs": [],
   "source": [
    "# Colleague: User\n",
    "from abc import ABC, abstractmethod\n",
    "\n",
    "class User(ABC):\n",
    "    def __init__(self, name, chatroom):\n",
    "        self.name = name\n",
    "        self._chatroom = chatroom\n",
    "\n",
    "    @abstractmethod\n",
    "    def send(self, to_user, message):\n",
    "        pass\n",
    "\n",
    "    @abstractmethod\n",
    "    def receive_message(self, from_user, message):\n",
    "        pass"
   ]
  },
  {
   "cell_type": "markdown",
   "metadata": {},
   "source": [
    "Finally, we create the ConcreteColleague representing the individual users:"
   ]
  },
  {
   "cell_type": "code",
   "execution_count": 4,
   "metadata": {},
   "outputs": [],
   "source": [
    "# ConcreteColleague: ChatUser\n",
    "class ChatUser(User):\n",
    "    def send(self, to_user, message):\n",
    "        print(f\"{self.name} sends a message to {to_user}: {message}\")\n",
    "        self._chatroom.send_message(self.name, to_user, message)\n",
    "\n",
    "    def receive_message(self, from_user, message):\n",
    "        print(f\"{self.name} receives a message from {from_user}: {message}\")"
   ]
  },
  {
   "cell_type": "markdown",
   "metadata": {},
   "source": [
    "Now, the client code can use the Mediator pattern to facilitate communication between the users in the chatroom:"
   ]
  },
  {
   "cell_type": "code",
   "execution_count": 5,
   "metadata": {},
   "outputs": [
    {
     "name": "stdout",
     "output_type": "stream",
     "text": [
      "John sends a message to Alice: Hello, Alice!\n",
      "Alice receives a message from John: Hello, Alice!\n",
      "Alice sends a message to John: Hi, John!\n",
      "John receives a message from Alice: Hi, John!\n",
      "Bob sends a message to Alice: Alice, are you there?\n",
      "Alice receives a message from Bob: Alice, are you there?\n",
      "Alice sends a message to Bob: Yes, I'm here!\n",
      "Bob receives a message from Alice: Yes, I'm here!\n"
     ]
    }
   ],
   "source": [
    "# Client Code\n",
    "if __name__ == \"__main__\":\n",
    "    chatroom = ConcreteChatroom()\n",
    "\n",
    "    john = ChatUser(\"John\", chatroom)\n",
    "    alice = ChatUser(\"Alice\", chatroom)\n",
    "    bob = ChatUser(\"Bob\", chatroom)\n",
    "\n",
    "    chatroom.register(john)\n",
    "    chatroom.register(alice)\n",
    "    chatroom.register(bob)\n",
    "\n",
    "    john.send(\"Alice\", \"Hello, Alice!\")\n",
    "    alice.send(\"John\", \"Hi, John!\")\n",
    "    bob.send(\"Alice\", \"Alice, are you there?\")\n",
    "    alice.send(\"Bob\", \"Yes, I'm here!\")"
   ]
  },
  {
   "cell_type": "markdown",
   "metadata": {},
   "source": [
    "In this example, the Mediator Design Pattern allows us to centralize the communication between users in the chatroom. The ConcreteChatroom acts as the mediator, handling the interactions between the ChatUsers. Instead of ChatUsers directly communicating with each other, they use the mediator to send and receive messages, reducing the direct dependencies and promoting a more decoupled communication channel. The Mediator pattern provides a structured and organized way of handling complex interactions between objects in a system."
   ]
  }
 ],
 "metadata": {
  "kernelspec": {
   "display_name": "Python 3",
   "language": "python",
   "name": "python3"
  },
  "language_info": {
   "codemirror_mode": {
    "name": "ipython",
    "version": 3
   },
   "file_extension": ".py",
   "mimetype": "text/x-python",
   "name": "python",
   "nbconvert_exporter": "python",
   "pygments_lexer": "ipython3",
   "version": "3.9.14"
  },
  "orig_nbformat": 4
 },
 "nbformat": 4,
 "nbformat_minor": 2
}
