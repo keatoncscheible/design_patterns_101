{
 "cells": [
  {
   "attachments": {},
   "cell_type": "markdown",
   "metadata": {},
   "source": [
    "# Iterator Design Pattern\n",
    "\n",
    "#### Also Known As: *Cursor*\n",
    "\n",
    "The **Iterator Design Pattern** is a behavioral design pattern that provides a way to access elements of a collection sequentially without exposing its underlying representation. It separates the traversal of a collection from the collection itself, making it possible to iterate over the elements without knowing the internal structure of the collection. The pattern is useful when you want to provide a uniform interface for accessing elements in different types of collections.\n",
    "\n",
    "### Intent\n",
    "\n",
    "The intent of the Iterator Design Pattern is to provide a way to access elements of a collection in a sequential manner without exposing the collection's internal details. It allows clients to traverse a collection using a common interface, promoting a decoupling between the collection and its traversal. The pattern promotes a more flexible and efficient way of iterating over collections.\n",
    "\n",
    "### Structure\n",
    "\n",
    "The main components of the Iterator Design Pattern are:\n",
    "\n",
    "1. **Iterator**: This is the interface or abstract class representing the iterator. It declares methods like has_next() to check if there are more elements and next() to get the next element in the collection.\n",
    "2. **ConcreteIterator**: The ConcreteIterator class implements the Iterator interface and keeps track of the current position in the collection. It provides the actual implementation of the has_next() and next() methods.\n",
    "3. **Iterable**: The Iterable interface represents the collection and declares a method to create an iterator (create_iterator()).\n",
    "4. **ConcreteIterable**: The ConcreteIterable class implements the Iterable interface and provides the implementation to create a specific iterator for the collection.\n",
    "\n",
    "### Example of Iterator in Python\n",
    "\n",
    "Let's consider an example where we want to implement an iterator for a simple list of numbers. We'll use the Iterator pattern to create an iterator that allows us to iterate over the list's elements without knowing its internal structure.\n",
    "\n",
    "First, we define the Iterator interface:"
   ]
  },
  {
   "cell_type": "code",
   "execution_count": 1,
   "metadata": {},
   "outputs": [],
   "source": [
    "# Iterator: Iterator\n",
    "from abc import ABC, abstractmethod\n",
    "\n",
    "class Iterator(ABC):\n",
    "    @abstractmethod\n",
    "    def has_next(self):\n",
    "        pass\n",
    "\n",
    "    @abstractmethod\n",
    "    def next(self):\n",
    "        pass"
   ]
  },
  {
   "cell_type": "markdown",
   "metadata": {},
   "source": [
    "Next, we create the ConcreteIterator representing the iterator for the list:"
   ]
  },
  {
   "cell_type": "code",
   "execution_count": 2,
   "metadata": {},
   "outputs": [],
   "source": [
    "# ConcreteIterator: ListIterator\n",
    "class ListIterator(Iterator):\n",
    "    def __init__(self, collection):\n",
    "        self._collection = collection\n",
    "        self._index = 0\n",
    "\n",
    "    def has_next(self):\n",
    "        return self._index < len(self._collection)\n",
    "\n",
    "    def next(self):\n",
    "        if self.has_next():\n",
    "            value = self._collection[self._index]\n",
    "            self._index += 1\n",
    "            return value\n",
    "        else:\n",
    "            raise StopIteration()"
   ]
  },
  {
   "cell_type": "markdown",
   "metadata": {},
   "source": [
    "Now, we define the Iterable interface representing the collection:"
   ]
  },
  {
   "cell_type": "code",
   "execution_count": 3,
   "metadata": {},
   "outputs": [],
   "source": [
    "# Iterable: IterableCollection\n",
    "from abc import ABC, abstractmethod\n",
    "\n",
    "class IterableCollection(ABC):\n",
    "    @abstractmethod\n",
    "    def create_iterator(self):\n",
    "        pass"
   ]
  },
  {
   "cell_type": "markdown",
   "metadata": {},
   "source": [
    "Finally, we create the ConcreteIterable representing the list:"
   ]
  },
  {
   "cell_type": "code",
   "execution_count": 4,
   "metadata": {},
   "outputs": [],
   "source": [
    "# ConcreteIterable: NumberList\n",
    "class NumberList(IterableCollection):\n",
    "    def __init__(self):\n",
    "        self._numbers = []\n",
    "\n",
    "    def add(self, number):\n",
    "        self._numbers.append(number)\n",
    "\n",
    "    def create_iterator(self):\n",
    "        return ListIterator(self._numbers)"
   ]
  },
  {
   "cell_type": "markdown",
   "metadata": {},
   "source": [
    "Now, the client code can use the Iterator pattern to iterate over the list's elements:"
   ]
  },
  {
   "cell_type": "code",
   "execution_count": 5,
   "metadata": {},
   "outputs": [
    {
     "name": "stdout",
     "output_type": "stream",
     "text": [
      "1\n",
      "2\n",
      "3\n"
     ]
    }
   ],
   "source": [
    "# Client Code\n",
    "if __name__ == \"__main__\":\n",
    "    number_list = NumberList()\n",
    "    number_list.add(1)\n",
    "    number_list.add(2)\n",
    "    number_list.add(3)\n",
    "\n",
    "    iterator = number_list.create_iterator()\n",
    "\n",
    "    while iterator.has_next():\n",
    "        print(iterator.next())"
   ]
  },
  {
   "cell_type": "markdown",
   "metadata": {},
   "source": [
    "In this example, the Iterator Design Pattern allows us to iterate over the list of numbers without directly accessing its internal structure. The client code interacts with the list using the Iterator interface, which provides a uniform way to access elements in different types of collections. The Iterator pattern promotes a decoupling between the collection and its traversal, making it possible to add new types of iterators or change the collection's internal structure without affecting the client code. It also promotes a more efficient way of iterating over collections, as the iterator maintains the state and position within the collection, allowing for sequential access to its elements. The Iterator pattern provides a structured and flexible way of traversing different types of collections."
   ]
  }
 ],
 "metadata": {
  "kernelspec": {
   "display_name": "Python 3",
   "language": "python",
   "name": "python3"
  },
  "language_info": {
   "codemirror_mode": {
    "name": "ipython",
    "version": 3
   },
   "file_extension": ".py",
   "mimetype": "text/x-python",
   "name": "python",
   "nbconvert_exporter": "python",
   "pygments_lexer": "ipython3",
   "version": "3.9.14"
  },
  "orig_nbformat": 4
 },
 "nbformat": 4,
 "nbformat_minor": 2
}
