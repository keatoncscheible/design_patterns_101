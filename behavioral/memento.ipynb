{
 "cells": [
  {
   "attachments": {},
   "cell_type": "markdown",
   "metadata": {},
   "source": [
    "# Memento Design Pattern\n",
    "\n",
    "#### Also Known As: *Token*\n",
    "\n",
    "The **Memento Design Pattern** is a behavioral design pattern that allows an object's state to be captured and stored externally so that it can be restored later without revealing its internal details. It enables an object to capture its internal state at a specific moment and then restore that state when needed. The pattern is useful when you need to provide undo/redo functionality, history tracking, or snapshots of an object's state.\n",
    "\n",
    "### Intent\n",
    "\n",
    "The intent of the Memento Design Pattern is to capture an object's internal state and store it externally as a memento. This memento can then be used to restore the object's state to a previous state. The pattern promotes the decoupling of an object's state from the object itself, allowing for more flexibility in managing state changes and supporting undo/redo operations.\n",
    "\n",
    "### Structure\n",
    "\n",
    "The main components of the Memento Design Pattern are:\n",
    "\n",
    "1. **Originator**: This is the object whose state needs to be captured and restored. It creates a memento to store its internal state and can use the memento to restore its state.\n",
    "2. **Memento**: The Memento class represents the stored state of the Originator. It holds the internal state of the Originator but doesn't reveal its contents to other objects.\n",
    "3. **Caretaker**: The Caretaker class is responsible for storing and managing mementos. It keeps a history of mementos and provides an interface to save, retrieve, and manage the mementos.\n",
    "\n",
    "### Example of Memento in Python\n",
    "\n",
    "Let's consider an example where we have a text editor that allows users to enter and edit text. We'll use the Memento pattern to implement undo/redo functionality, allowing users to revert to previous versions of the text.\n",
    "\n",
    "First, we define the Memento class:"
   ]
  },
  {
   "cell_type": "code",
   "execution_count": 1,
   "metadata": {},
   "outputs": [],
   "source": [
    "# Memento: TextMemento\n",
    "class TextMemento:\n",
    "    def __init__(self, content):\n",
    "        self._content = content\n",
    "\n",
    "    def get_content(self):\n",
    "        return self._content"
   ]
  },
  {
   "cell_type": "markdown",
   "metadata": {},
   "source": [
    "Next, we create the Originator representing the text editor:"
   ]
  },
  {
   "cell_type": "code",
   "execution_count": 2,
   "metadata": {},
   "outputs": [],
   "source": [
    "# Originator: TextEditor\n",
    "class TextEditor:\n",
    "    def __init__(self):\n",
    "        self._content = \"\"\n",
    "\n",
    "    def get_content(self):\n",
    "        return self._content\n",
    "\n",
    "    def set_content(self, content):\n",
    "        self._content = content\n",
    "\n",
    "    def create_memento(self):\n",
    "        return TextMemento(self._content)\n",
    "\n",
    "    def restore_from_memento(self, memento):\n",
    "        self._content = memento.get_content()"
   ]
  },
  {
   "cell_type": "markdown",
   "metadata": {},
   "source": [
    "Now, we define the Caretaker representing the history of the text editor:"
   ]
  },
  {
   "cell_type": "code",
   "execution_count": 3,
   "metadata": {},
   "outputs": [],
   "source": [
    "# Caretaker: History\n",
    "class History:\n",
    "    def __init__(self):\n",
    "        self._mementos = []\n",
    "\n",
    "    def save(self, memento):\n",
    "        self._mementos.append(memento)\n",
    "\n",
    "    def undo(self):\n",
    "        if self._mementos:\n",
    "            return self._mementos.pop()\n",
    "        else:\n",
    "            return None"
   ]
  },
  {
   "cell_type": "markdown",
   "metadata": {},
   "source": [
    "Finally, the client code can use the Memento pattern to implement undo/redo functionality for the text editor:"
   ]
  },
  {
   "cell_type": "code",
   "execution_count": 4,
   "metadata": {},
   "outputs": [
    {
     "name": "stdout",
     "output_type": "stream",
     "text": [
      "Updated text.\n"
     ]
    }
   ],
   "source": [
    "# Client Code\n",
    "if __name__ == \"__main__\":\n",
    "    text_editor = TextEditor()\n",
    "    history = History()\n",
    "\n",
    "    text_editor.set_content(\"This is the initial text.\")\n",
    "    history.save(text_editor.create_memento())  # Save the initial state\n",
    "\n",
    "    text_editor.set_content(\"Updated text.\")\n",
    "    history.save(text_editor.create_memento())  # Save the updated state\n",
    "\n",
    "    text_editor.set_content(\"New text added.\")\n",
    "    # No need to save the state here as it will be automatically saved when set_content is called.\n",
    "\n",
    "    # Undo to the previous state\n",
    "    memento = history.undo()\n",
    "    if memento:\n",
    "        text_editor.restore_from_memento(memento)\n",
    "\n",
    "    print(text_editor.get_content())"
   ]
  },
  {
   "cell_type": "markdown",
   "metadata": {},
   "source": [
    "In this example, the Memento Design Pattern allows us to implement undo/redo functionality for the text editor. The Caretaker (History) maintains a list of mementos representing different states of the text editor. The Originator (TextEditor) creates and restores its state from mementos. When the user performs an undo operation, the text editor retrieves the previous state from the caretaker and restores it using the memento. The Memento pattern provides a way to save and restore an object's state without exposing its internal details, making it suitable for implementing history tracking, undo/redo functionality, and snapshots of an object's state."
   ]
  }
 ],
 "metadata": {
  "kernelspec": {
   "display_name": "Python 3",
   "language": "python",
   "name": "python3"
  },
  "language_info": {
   "codemirror_mode": {
    "name": "ipython",
    "version": 3
   },
   "file_extension": ".py",
   "mimetype": "text/x-python",
   "name": "python",
   "nbconvert_exporter": "python",
   "pygments_lexer": "ipython3",
   "version": "3.9.14"
  },
  "orig_nbformat": 4
 },
 "nbformat": 4,
 "nbformat_minor": 2
}
