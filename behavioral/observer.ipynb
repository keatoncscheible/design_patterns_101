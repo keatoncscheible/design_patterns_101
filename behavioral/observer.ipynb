{
 "cells": [
  {
   "attachments": {},
   "cell_type": "markdown",
   "metadata": {},
   "source": [
    "# Observer Design Pattern\n",
    "\n",
    "#### Also Known As: *Dependents*, *Publish-Subscribe*\n",
    "\n",
    "The **Observer Design Pattern** is a behavioral design pattern that establishes a one-to-many dependency between objects, so that when one object (the subject) changes its state, all its dependents (observers) are notified and updated automatically. The pattern allows objects to be loosely coupled, ensuring that changes to one object do not require changes to other dependent objects. It is particularly useful in scenarios where multiple objects need to be notified of state changes in another object.\n",
    "\n",
    "### Intent\n",
    "\n",
    "The intent of the Observer Design Pattern is to provide a way for objects to subscribe and receive updates when the state of another object changes. It promotes loose coupling between subjects and observers, allowing for a flexible and maintainable design. The pattern is suitable when there is a one-to-many relationship between objects and changes in one object must be reflected in other dependent objects.\n",
    "\n",
    "### Structure\n",
    "\n",
    "The main components of the Observer Design Pattern are:\n",
    "\n",
    "1. **Subject**: This is the object that contains the state and maintains a list of its observers. It provides methods to subscribe, unsubscribe, and notify observers of state changes.\n",
    "2. **Observer**: The Observer interface represents the dependent objects that need to be notified of state changes. It declares an update method that subjects call when their state changes.\n",
    "3. **ConcreteSubject**: The ConcreteSubject class implements the Subject interface and maintains the state of interest. It also notifies its observers when its state changes.\n",
    "4. **ConcreteObserver**: The ConcreteObserver classes implement the Observer interface and represent the specific dependent objects. They register with the subject to receive updates and respond to state changes.\n",
    "\n",
    "### Example of Observer in Python\n",
    "\n",
    "Let's consider an example where we have a weather station that measures temperature. We'll use the Observer pattern to notify various displays about temperature changes.\n",
    "\n",
    "First, we define the Observer interface:"
   ]
  },
  {
   "cell_type": "code",
   "execution_count": 1,
   "metadata": {},
   "outputs": [],
   "source": [
    "# Observer: Observer\n",
    "from abc import ABC, abstractmethod\n",
    "\n",
    "class Observer(ABC):\n",
    "    @abstractmethod\n",
    "    def update(self, temperature):\n",
    "        pass"
   ]
  },
  {
   "cell_type": "markdown",
   "metadata": {},
   "source": [
    "Next, we create the Subject representing the weather station:"
   ]
  },
  {
   "cell_type": "code",
   "execution_count": 2,
   "metadata": {},
   "outputs": [],
   "source": [
    "# Subject: WeatherStation\n",
    "class WeatherStation:\n",
    "    def __init__(self):\n",
    "        self._temperature = 0\n",
    "        self._observers = []\n",
    "\n",
    "    def add_observer(self, observer):\n",
    "        self._observers.append(observer)\n",
    "\n",
    "    def remove_observer(self, observer):\n",
    "        self._observers.remove(observer)\n",
    "\n",
    "    def set_temperature(self, temperature):\n",
    "        self._temperature = temperature\n",
    "        self.notify_observers()\n",
    "\n",
    "    def notify_observers(self):\n",
    "        for observer in self._observers:\n",
    "            observer.update(self._temperature)"
   ]
  },
  {
   "cell_type": "markdown",
   "metadata": {},
   "source": [
    "Now, we define the ConcreteObserver representing the displays:"
   ]
  },
  {
   "cell_type": "code",
   "execution_count": 3,
   "metadata": {},
   "outputs": [],
   "source": [
    "# ConcreteObserver: Display\n",
    "class Display(Observer):\n",
    "    def __init__(self, name):\n",
    "        self._name = name\n",
    "\n",
    "    def update(self, temperature):\n",
    "        print(f\"{self._name} Display: Temperature is now {temperature}°C\")"
   ]
  },
  {
   "cell_type": "markdown",
   "metadata": {},
   "source": [
    "Finally, the client code can use the Observer pattern to notify displays about temperature changes:"
   ]
  },
  {
   "cell_type": "code",
   "execution_count": 4,
   "metadata": {},
   "outputs": [
    {
     "name": "stdout",
     "output_type": "stream",
     "text": [
      "Display 1 Display: Temperature is now 25°C\n",
      "Display 2 Display: Temperature is now 25°C\n",
      "Display 1 Display: Temperature is now 30°C\n",
      "Display 2 Display: Temperature is now 30°C\n"
     ]
    }
   ],
   "source": [
    "# Client Code\n",
    "if __name__ == \"__main__\":\n",
    "    weather_station = WeatherStation()\n",
    "\n",
    "    display1 = Display(\"Display 1\")\n",
    "    display2 = Display(\"Display 2\")\n",
    "\n",
    "    weather_station.add_observer(display1)\n",
    "    weather_station.add_observer(display2)\n",
    "\n",
    "    weather_station.set_temperature(25)\n",
    "    weather_station.set_temperature(30)"
   ]
  },
  {
   "cell_type": "markdown",
   "metadata": {},
   "source": [
    "In this example, the Observer Design Pattern allows us to notify multiple displays about temperature changes in the weather station. The WeatherStation acts as the subject and maintains a list of observers (displays) that need to be notified of state changes. When the temperature is updated, the weather station notifies all its observers, and the displays respond by updating their displayed temperature. The Observer pattern promotes a loose coupling between the weather station and the displays, making it easy to add or remove new displays without affecting the weather station's implementation. It provides a flexible and efficient way of notifying multiple dependent objects about changes in a subject's state."
   ]
  }
 ],
 "metadata": {
  "kernelspec": {
   "display_name": "Python 3",
   "language": "python",
   "name": "python3"
  },
  "language_info": {
   "codemirror_mode": {
    "name": "ipython",
    "version": 3
   },
   "file_extension": ".py",
   "mimetype": "text/x-python",
   "name": "python",
   "nbconvert_exporter": "python",
   "pygments_lexer": "ipython3",
   "version": "3.9.14"
  },
  "orig_nbformat": 4
 },
 "nbformat": 4,
 "nbformat_minor": 2
}
