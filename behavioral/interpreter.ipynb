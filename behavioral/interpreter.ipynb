{
 "cells": [
  {
   "attachments": {},
   "cell_type": "markdown",
   "metadata": {},
   "source": [
    "# Interpreter Design Pattern\n",
    "\n",
    "The **Interpreter Design Pattern** is a behavioral design pattern that provides a way to evaluate language grammar or expressions. It defines a grammar for a language and provides an interpreter to interpret sentences in that language. The pattern is useful when you need to interpret and evaluate complex expressions, representing them in a structured way to allow easy evaluation.\n",
    "\n",
    "### Intent\n",
    "\n",
    "The intent of the Interpreter Design Pattern is to define a grammar for a language and provide an interpreter to evaluate expressions in that language. It allows you to represent a language's grammar as a set of domain-specific classes and interpret sentences or expressions in the language. The pattern promotes a more structured and organized way of evaluating complex expressions.\n",
    "\n",
    "### Structure\n",
    "\n",
    "The main components of the Interpreter Design Pattern are:\n",
    "\n",
    "1. **AbstractExpression**: This is the interface or abstract class representing the expression nodes in the language. It declares an interpret() method that defines how expressions are evaluated.\n",
    "2. **TerminalExpression**: The TerminalExpression class implements the AbstractExpression interface and represents the terminal nodes in the language. It performs the actual interpretation of the expression.\n",
    "3. **NonterminalExpression**: The NonterminalExpression class also implements the AbstractExpression interface and represents the non-terminal nodes in the language. It may contain other expressions and defines the interpretation of complex expressions.\n",
    "\n",
    "### Example of Interpreter in Python\n",
    "\n",
    "Let's consider an example where we want to evaluate simple arithmetic expressions in the form of \"number + number - number\". We'll use the Interpreter pattern to implement an expression evaluator that can parse and evaluate these arithmetic expressions.\n",
    "\n",
    "First, we define the AbstractExpression interface:"
   ]
  },
  {
   "cell_type": "code",
   "execution_count": 1,
   "metadata": {},
   "outputs": [],
   "source": [
    "# AbstractExpression: Expression\n",
    "from abc import ABC, abstractmethod\n",
    "\n",
    "class Expression(ABC):\n",
    "    @abstractmethod\n",
    "    def interpret(self):\n",
    "        pass"
   ]
  },
  {
   "cell_type": "markdown",
   "metadata": {},
   "source": [
    "Next, we create the TerminalExpression representing a number:"
   ]
  },
  {
   "cell_type": "code",
   "execution_count": 2,
   "metadata": {},
   "outputs": [],
   "source": [
    "# TerminalExpression: Number\n",
    "class Number(Expression):\n",
    "    def __init__(self, value):\n",
    "        self._value = value\n",
    "\n",
    "    def interpret(self):\n",
    "        return self._value"
   ]
  },
  {
   "cell_type": "markdown",
   "metadata": {},
   "source": [
    "Now, we define the NonterminalExpression representing addition:"
   ]
  },
  {
   "cell_type": "code",
   "execution_count": 3,
   "metadata": {},
   "outputs": [],
   "source": [
    "# NonterminalExpression: Addition\n",
    "class Addition(Expression):\n",
    "    def __init__(self, left, right):\n",
    "        self._left = left\n",
    "        self._right = right\n",
    "\n",
    "    def interpret(self):\n",
    "        return self._left.interpret() + self._right.interpret()"
   ]
  },
  {
   "cell_type": "markdown",
   "metadata": {},
   "source": [
    "Finally, the client code can use the Interpreter pattern to evaluate arithmetic expressions:"
   ]
  },
  {
   "cell_type": "code",
   "execution_count": 4,
   "metadata": {},
   "outputs": [
    {
     "name": "stdout",
     "output_type": "stream",
     "text": [
      "Result: 12\n"
     ]
    }
   ],
   "source": [
    "# Client Code\n",
    "if __name__ == \"__main__\":\n",
    "    # Representing expression: 10 + 5 - 3\n",
    "    expression = Addition(Number(10), Addition(Number(5), Number(-3)))\n",
    "\n",
    "    # Evaluate the expression\n",
    "    result = expression.interpret()\n",
    "    print(\"Result:\", result)  # Output: Result: 12"
   ]
  },
  {
   "cell_type": "markdown",
   "metadata": {},
   "source": [
    "In this example, the Interpreter Design Pattern allows us to evaluate arithmetic expressions in a structured way. The client code creates a hierarchy of Expression objects, representing the arithmetic expression \"10 + 5 - 3\". The interpreter parses and evaluates the expression in a recursive manner, starting from the root expression (Addition) and recursively evaluating its sub-expressions (Numbers). The Interpreter pattern provides a way to represent and evaluate complex expressions, making it suitable for tasks involving language parsing and evaluation."
   ]
  }
 ],
 "metadata": {
  "kernelspec": {
   "display_name": "Python 3",
   "language": "python",
   "name": "python3"
  },
  "language_info": {
   "codemirror_mode": {
    "name": "ipython",
    "version": 3
   },
   "file_extension": ".py",
   "mimetype": "text/x-python",
   "name": "python",
   "nbconvert_exporter": "python",
   "pygments_lexer": "ipython3",
   "version": "3.9.14"
  },
  "orig_nbformat": 4
 },
 "nbformat": 4,
 "nbformat_minor": 2
}
